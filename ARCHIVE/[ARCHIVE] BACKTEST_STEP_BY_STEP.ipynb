{
 "cells": [
  {
   "cell_type": "markdown",
   "metadata": {
    "colab_type": "text",
    "id": "view-in-github"
   },
   "source": [
    "[View in Colaboratory](https://colab.research.google.com/github/scubamut/backtests/blob/master/BACKTEST_STEP_BY_STEP.ipynb)"
   ]
  },
  {
   "cell_type": "code",
   "execution_count": 1,
   "metadata": {
    "colab": {
     "base_uri": "https://localhost:8080/",
     "height": 34
    },
    "colab_type": "code",
    "id": "rd1m-1PWHoPt",
    "outputId": "a8f8e71b-9297-4785-d9ec-d06d43c75bac"
   },
   "outputs": [
    {
     "name": "stdout",
     "output_type": "stream",
     "text": [
      "/content/.ipython/profile_default\n"
     ]
    }
   ],
   "source": [
    "from __future__ import print_function\n",
    "from IPython.utils.path import get_ipython_dir\n",
    "print(get_ipython().profile_dir.location)"
   ]
  },
  {
   "cell_type": "code",
   "execution_count": 2,
   "metadata": {
    "colab": {
     "base_uri": "https://localhost:8080/",
     "height": 461
    },
    "colab_type": "code",
    "id": "3vjBfK4z9p8h",
    "outputId": "d6c4d7e6-6354-497e-a4dc-487bec2b632e"
   },
   "outputs": [
    {
     "name": "stdout",
     "output_type": "stream",
     "text": [
      "Collecting git+https://github.com/pydata/pandas-datareader.git\r\n",
      "  Cloning https://github.com/pydata/pandas-datareader.git to /tmp/pip-req-build-bn7w374h\n",
      "Requirement already satisfied: pandas>=0.19.2 in /usr/local/lib/python3.6/dist-packages (from pandas-datareader==0.6.0+30.g3c17058) (0.22.0)\n",
      "Requirement already satisfied: requests>=2.3.0 in /usr/local/lib/python3.6/dist-packages (from pandas-datareader==0.6.0+30.g3c17058) (2.18.4)\n",
      "Requirement already satisfied: requests-file in /usr/local/lib/python3.6/dist-packages (from pandas-datareader==0.6.0+30.g3c17058) (1.4.3)\n",
      "Requirement already satisfied: requests-ftp in /usr/local/lib/python3.6/dist-packages (from pandas-datareader==0.6.0+30.g3c17058) (0.3.1)\n",
      "Requirement already satisfied: wrapt in /usr/local/lib/python3.6/dist-packages (from pandas-datareader==0.6.0+30.g3c17058) (1.10.11)\n",
      "Requirement already satisfied: lxml in /usr/local/lib/python3.6/dist-packages (from pandas-datareader==0.6.0+30.g3c17058) (4.2.1)\n",
      "Requirement already satisfied: python-dateutil>=2 in /usr/local/lib/python3.6/dist-packages (from pandas>=0.19.2->pandas-datareader==0.6.0+30.g3c17058) (2.5.3)\n",
      "Requirement already satisfied: pytz>=2011k in /usr/local/lib/python3.6/dist-packages (from pandas>=0.19.2->pandas-datareader==0.6.0+30.g3c17058) (2018.4)\n",
      "Requirement already satisfied: numpy>=1.9.0 in /usr/local/lib/python3.6/dist-packages (from pandas>=0.19.2->pandas-datareader==0.6.0+30.g3c17058) (1.14.3)\n",
      "Requirement already satisfied: idna<2.7,>=2.5 in /usr/local/lib/python3.6/dist-packages (from requests>=2.3.0->pandas-datareader==0.6.0+30.g3c17058) (2.6)\n",
      "Requirement already satisfied: chardet<3.1.0,>=3.0.2 in /usr/local/lib/python3.6/dist-packages (from requests>=2.3.0->pandas-datareader==0.6.0+30.g3c17058) (3.0.4)\n",
      "Requirement already satisfied: certifi>=2017.4.17 in /usr/local/lib/python3.6/dist-packages (from requests>=2.3.0->pandas-datareader==0.6.0+30.g3c17058) (2018.4.16)\n",
      "Requirement already satisfied: urllib3<1.23,>=1.21.1 in /usr/local/lib/python3.6/dist-packages (from requests>=2.3.0->pandas-datareader==0.6.0+30.g3c17058) (1.22)\n",
      "Requirement already satisfied: six in /usr/local/lib/python3.6/dist-packages (from requests-file->pandas-datareader==0.6.0+30.g3c17058) (1.11.0)\n",
      "Building wheels for collected packages: pandas-datareader\n",
      "  Running setup.py bdist_wheel for pandas-datareader ... \u001b[?25l-\b \b\\\b \bdone\n",
      "\u001b[?25h  Stored in directory: /tmp/pip-ephem-wheel-cache-50m1xzys/wheels/5f/4c/e3/f9e4e92cb4498744a91d53d37b840fb1959c286bf660740040\n",
      "Successfully built pandas-datareader\n",
      "Installing collected packages: pandas-datareader\n",
      "  Found existing installation: pandas-datareader 0.6.0\n",
      "    Uninstalling pandas-datareader-0.6.0:\n",
      "      Successfully uninstalled pandas-datareader-0.6.0\n",
      "Successfully installed pandas-datareader-0.6.0+30.g3c17058\n"
     ]
    }
   ],
   "source": [
    "!pip install git+https://github.com/pydata/pandas-datareader.git"
   ]
  },
  {
   "cell_type": "code",
   "execution_count": 3,
   "metadata": {
    "colab": {
     "base_uri": "https://localhost:8080/",
     "height": 1332
    },
    "colab_type": "code",
    "collapsed": true,
    "id": "bXipXSsolquB",
    "outputId": "a8547fab-e5c0-49dc-bb3b-bd21861bb414"
   },
   "outputs": [
    {
     "name": "stdout",
     "output_type": "stream",
     "text": [
      "Collecting git+https://github.com/scubamut/fintools.git\r\n",
      "  Cloning https://github.com/scubamut/fintools.git to /tmp/pip-req-build-88sr5jmo\n",
      "Requirement already satisfied (use --upgrade to upgrade): fintools==0.1.2 from git+https://github.com/scubamut/fintools.git in /usr/local/lib/python3.6/dist-packages\n",
      "Building wheels for collected packages: fintools\n",
      "  Running setup.py bdist_wheel for fintools ... \u001b[?25l-\b \bdone\n",
      "\u001b[?25h  Stored in directory: /tmp/pip-ephem-wheel-cache-wocy0pga/wheels/31/8c/f2/b804e06272798f0f915e278c6e44fe46c927321835e506c256\n",
      "Successfully built fintools\n",
      "Requirement already satisfied: cvxopt in /usr/local/lib/python3.6/dist-packages (1.2.0)\n",
      "Requirement already satisfied: pyfolio in /usr/local/lib/python3.6/dist-packages (0.8.0)\n",
      "Requirement already satisfied: scikit-learn>=0.18.2 in /usr/local/lib/python3.6/dist-packages (from pyfolio) (0.19.1)\n",
      "Requirement already satisfied: pandas>=0.19.0 in /usr/local/lib/python3.6/dist-packages (from pyfolio) (0.22.0)\n",
      "Requirement already satisfied: matplotlib>=1.4.0 in /usr/local/lib/python3.6/dist-packages (from pyfolio) (2.1.2)\n",
      "Requirement already satisfied: pytz>=2014.10 in /usr/local/lib/python3.6/dist-packages (from pyfolio) (2018.4)\n",
      "Requirement already satisfied: ipython>=3.2.3 in /usr/local/lib/python3.6/dist-packages (from pyfolio) (5.5.0)\n",
      "Requirement already satisfied: empyrical>=0.3.2 in /usr/local/lib/python3.6/dist-packages (from pyfolio) (0.4.3)\n",
      "Requirement already satisfied: scipy>=0.14.0 in /usr/local/lib/python3.6/dist-packages (from pyfolio) (0.19.1)\n",
      "Requirement already satisfied: pandas-datareader>=0.2 in /usr/local/lib/python3.6/dist-packages (from pyfolio) (0.6.0+30.g3c17058)\n",
      "Requirement already satisfied: seaborn>=0.7.1 in /usr/local/lib/python3.6/dist-packages (from pyfolio) (0.7.1)\n",
      "Requirement already satisfied: numpy>=1.9.1 in /usr/local/lib/python3.6/dist-packages (from pyfolio) (1.14.3)\n",
      "Requirement already satisfied: python-dateutil>=2 in /usr/local/lib/python3.6/dist-packages (from pandas>=0.19.0->pyfolio) (2.5.3)\n",
      "Requirement already satisfied: cycler>=0.10 in /usr/local/lib/python3.6/dist-packages (from matplotlib>=1.4.0->pyfolio) (0.10.0)\n",
      "Requirement already satisfied: six>=1.10 in /usr/local/lib/python3.6/dist-packages (from matplotlib>=1.4.0->pyfolio) (1.11.0)\n",
      "Requirement already satisfied: pyparsing!=2.0.4,!=2.1.2,!=2.1.6,>=2.0.1 in /usr/local/lib/python3.6/dist-packages (from matplotlib>=1.4.0->pyfolio) (2.2.0)\n",
      "Requirement already satisfied: prompt-toolkit<2.0.0,>=1.0.4 in /usr/local/lib/python3.6/dist-packages (from ipython>=3.2.3->pyfolio) (1.0.15)\n",
      "Requirement already satisfied: decorator in /usr/local/lib/python3.6/dist-packages (from ipython>=3.2.3->pyfolio) (4.3.0)\n",
      "Requirement already satisfied: pexpect; sys_platform != \"win32\" in /usr/local/lib/python3.6/dist-packages (from ipython>=3.2.3->pyfolio) (4.5.0)\n",
      "Requirement already satisfied: pygments in /usr/local/lib/python3.6/dist-packages (from ipython>=3.2.3->pyfolio) (2.1.3)\n",
      "Requirement already satisfied: setuptools>=18.5 in /usr/local/lib/python3.6/dist-packages (from ipython>=3.2.3->pyfolio) (39.2.0)\n",
      "Requirement already satisfied: simplegeneric>0.8 in /usr/local/lib/python3.6/dist-packages (from ipython>=3.2.3->pyfolio) (0.8.1)\n",
      "Requirement already satisfied: pickleshare in /usr/local/lib/python3.6/dist-packages (from ipython>=3.2.3->pyfolio) (0.7.4)\n",
      "Requirement already satisfied: traitlets>=4.2 in /usr/local/lib/python3.6/dist-packages (from ipython>=3.2.3->pyfolio) (4.3.2)\n",
      "Requirement already satisfied: bottleneck>=1.0.0 in /usr/local/lib/python3.6/dist-packages (from empyrical>=0.3.2->pyfolio) (1.2.1)\n",
      "Requirement already satisfied: requests-ftp in /usr/local/lib/python3.6/dist-packages (from pandas-datareader>=0.2->pyfolio) (0.3.1)\n",
      "Requirement already satisfied: requests-file in /usr/local/lib/python3.6/dist-packages (from pandas-datareader>=0.2->pyfolio) (1.4.3)\n",
      "Requirement already satisfied: wrapt in /usr/local/lib/python3.6/dist-packages (from pandas-datareader>=0.2->pyfolio) (1.10.11)\n",
      "Requirement already satisfied: requests>=2.3.0 in /usr/local/lib/python3.6/dist-packages (from pandas-datareader>=0.2->pyfolio) (2.18.4)\n",
      "Requirement already satisfied: lxml in /usr/local/lib/python3.6/dist-packages (from pandas-datareader>=0.2->pyfolio) (4.2.1)\n",
      "Requirement already satisfied: wcwidth in /usr/local/lib/python3.6/dist-packages (from prompt-toolkit<2.0.0,>=1.0.4->ipython>=3.2.3->pyfolio) (0.1.7)\n",
      "Requirement already satisfied: ptyprocess>=0.5 in /usr/local/lib/python3.6/dist-packages (from pexpect; sys_platform != \"win32\"->ipython>=3.2.3->pyfolio) (0.5.2)\n",
      "Requirement already satisfied: ipython-genutils in /usr/local/lib/python3.6/dist-packages (from traitlets>=4.2->ipython>=3.2.3->pyfolio) (0.2.0)\n",
      "Requirement already satisfied: certifi>=2017.4.17 in /usr/local/lib/python3.6/dist-packages (from requests>=2.3.0->pandas-datareader>=0.2->pyfolio) (2018.4.16)\n",
      "Requirement already satisfied: chardet<3.1.0,>=3.0.2 in /usr/local/lib/python3.6/dist-packages (from requests>=2.3.0->pandas-datareader>=0.2->pyfolio) (3.0.4)\n",
      "Requirement already satisfied: idna<2.7,>=2.5 in /usr/local/lib/python3.6/dist-packages (from requests>=2.3.0->pandas-datareader>=0.2->pyfolio) (2.6)\n",
      "Requirement already satisfied: urllib3<1.23,>=1.21.1 in /usr/local/lib/python3.6/dist-packages (from requests>=2.3.0->pandas-datareader>=0.2->pyfolio) (1.22)\n",
      "Requirement already satisfied: ffn in /usr/local/lib/python3.6/dist-packages (0.3.4)\n",
      "Requirement already satisfied: decorator>=4 in /usr/local/lib/python3.6/dist-packages (from ffn) (4.3.0)\n",
      "Requirement already satisfied: matplotlib>=1 in /usr/local/lib/python3.6/dist-packages (from ffn) (2.1.2)\n",
      "Requirement already satisfied: scikit-learn>=0.15 in /usr/local/lib/python3.6/dist-packages (from ffn) (0.19.1)\n",
      "Requirement already satisfied: scipy>=0.15 in /usr/local/lib/python3.6/dist-packages (from ffn) (0.19.1)\n",
      "Requirement already satisfied: pandas>=0.19 in /usr/local/lib/python3.6/dist-packages (from ffn) (0.22.0)\n",
      "Requirement already satisfied: numpy>=1.5 in /usr/local/lib/python3.6/dist-packages (from ffn) (1.14.3)\n",
      "Requirement already satisfied: pandas-datareader>=0.2 in /usr/local/lib/python3.6/dist-packages (from ffn) (0.6.0+30.g3c17058)\n",
      "Requirement already satisfied: future>=0.15 in /usr/local/lib/python3.6/dist-packages (from ffn) (0.16.0)\n",
      "Requirement already satisfied: tabulate>=0.7.5 in /usr/local/lib/python3.6/dist-packages (from ffn) (0.8.2)\n",
      "Requirement already satisfied: six>=1.10 in /usr/local/lib/python3.6/dist-packages (from matplotlib>=1->ffn) (1.11.0)\n",
      "Requirement already satisfied: pytz in /usr/local/lib/python3.6/dist-packages (from matplotlib>=1->ffn) (2018.4)\n",
      "Requirement already satisfied: cycler>=0.10 in /usr/local/lib/python3.6/dist-packages (from matplotlib>=1->ffn) (0.10.0)\n",
      "Requirement already satisfied: python-dateutil>=2.1 in /usr/local/lib/python3.6/dist-packages (from matplotlib>=1->ffn) (2.5.3)\n",
      "Requirement already satisfied: pyparsing!=2.0.4,!=2.1.2,!=2.1.6,>=2.0.1 in /usr/local/lib/python3.6/dist-packages (from matplotlib>=1->ffn) (2.2.0)\n",
      "Requirement already satisfied: requests-file in /usr/local/lib/python3.6/dist-packages (from pandas-datareader>=0.2->ffn) (1.4.3)\n",
      "Requirement already satisfied: requests>=2.3.0 in /usr/local/lib/python3.6/dist-packages (from pandas-datareader>=0.2->ffn) (2.18.4)\n",
      "Requirement already satisfied: lxml in /usr/local/lib/python3.6/dist-packages (from pandas-datareader>=0.2->ffn) (4.2.1)\n",
      "Requirement already satisfied: wrapt in /usr/local/lib/python3.6/dist-packages (from pandas-datareader>=0.2->ffn) (1.10.11)\n",
      "Requirement already satisfied: requests-ftp in /usr/local/lib/python3.6/dist-packages (from pandas-datareader>=0.2->ffn) (0.3.1)\n",
      "Requirement already satisfied: chardet<3.1.0,>=3.0.2 in /usr/local/lib/python3.6/dist-packages (from requests>=2.3.0->pandas-datareader>=0.2->ffn) (3.0.4)\n",
      "Requirement already satisfied: idna<2.7,>=2.5 in /usr/local/lib/python3.6/dist-packages (from requests>=2.3.0->pandas-datareader>=0.2->ffn) (2.6)\n",
      "Requirement already satisfied: certifi>=2017.4.17 in /usr/local/lib/python3.6/dist-packages (from requests>=2.3.0->pandas-datareader>=0.2->ffn) (2018.4.16)\n",
      "Requirement already satisfied: urllib3<1.23,>=1.21.1 in /usr/local/lib/python3.6/dist-packages (from requests>=2.3.0->pandas-datareader>=0.2->ffn) (1.22)\n",
      "Requirement already satisfied: itable in /usr/local/lib/python3.6/dist-packages (0.0.1)\n",
      "Requirement already satisfied: numpy in /usr/local/lib/python3.6/dist-packages (from itable) (1.14.3)\n",
      "Requirement already satisfied: pandas in /usr/local/lib/python3.6/dist-packages (from itable) (0.22.0)\n",
      "Requirement already satisfied: pytz>=2011k in /usr/local/lib/python3.6/dist-packages (from pandas->itable) (2018.4)\n",
      "Requirement already satisfied: python-dateutil>=2 in /usr/local/lib/python3.6/dist-packages (from pandas->itable) (2.5.3)\n",
      "Requirement already satisfied: six>=1.5 in /usr/local/lib/python3.6/dist-packages (from python-dateutil>=2->pandas->itable) (1.11.0)\n"
     ]
    }
   ],
   "source": [
    "!pip install git+https://github.com/scubamut/fintools.git\n",
    "!pip install cvxopt\n",
    "!pip install pyfolio\n",
    "!pip install ffn\n",
    "!pip install itable"
   ]
  },
  {
   "cell_type": "code",
   "execution_count": 4,
   "metadata": {
    "colab": {
     "base_uri": "https://localhost:8080/",
     "height": 16
    },
    "colab_type": "code",
    "id": "sp-q2F_TlZIT",
    "outputId": "0eb61f8d-062e-4973-aadc-d58ee07b86ab"
   },
   "outputs": [],
   "source": [
    "import pandas_datareader.data as web\n",
    "import matplotlib.pyplot as plt\n",
    "import pandas as pd\n",
    "from datetime import datetime\n",
    "import itable\n",
    "import ffn"
   ]
  },
  {
   "cell_type": "code",
   "execution_count": 5,
   "metadata": {
    "colab": {
     "base_uri": "https://localhost:8080/",
     "height": 16
    },
    "colab_type": "code",
    "id": "9UgovS5BmidH",
    "outputId": "d4a6612a-a9a1-4886-c33d-fb55580ada7e"
   },
   "outputs": [],
   "source": [
    "from fintools.Parameters import Parameters\n",
    "from fintools.set_start_end import set_start_end\n",
    "from fintools.get_yahoo_prices import get_yahoo_prices\n",
    "from fintools.compute_weights_RS_DM import compute_weights_RS_DM\n",
    "from fintools.compute_weights_PMA import compute_weights_PMA\n",
    "from fintools.endpoints import endpoints\n",
    "from fintools.backtest import backtest\n",
    "from fintools.monthly_return_table import monthly_return_table\n",
    "from fintools.show_return_table import show_return_table"
   ]
  },
  {
   "cell_type": "markdown",
   "metadata": {
    "colab_type": "text",
    "id": "1VUiBV83lZIj"
   },
   "source": [
    "# STEP BY STEP BACKTEST"
   ]
  },
  {
   "cell_type": "code",
   "execution_count": 7,
   "metadata": {
    "colab": {
     "base_uri": "https://localhost:8080/",
     "height": 16
    },
    "colab_type": "code",
    "id": "J5yJrMMOlZIk",
    "outputId": "d21d2542-762b-4f37-d905-7ddd80079841"
   },
   "outputs": [],
   "source": [
    "symbols =['VCVSX','VWINX','VWEHX','VGHCX','VFIIX','VWAHX','FGOVX','FFXSX']\n",
    "cash_proxy = 'VUSTX'\n",
    "risk_free = 0\n",
    "\n",
    "\n",
    "# get data\n",
    "tickers = symbols.copy()\n",
    "if cash_proxy != 'CASHX' :\n",
    "    tickers = list(set(tickers + [cash_proxy]))\n",
    "if isinstance(risk_free, str) :\n",
    "    tickers = list(set(tickers + [risk_free]))\n",
    "\n"
   ]
  },
  {
   "cell_type": "code",
   "execution_count": 8,
   "metadata": {
    "colab": {
     "base_uri": "https://localhost:8080/",
     "height": 34
    },
    "colab_type": "code",
    "id": "YloJKDe00i6I",
    "outputId": "5753361c-dece-4c34-f1fd-de1bfa6fca37"
   },
   "outputs": [
    {
     "data": {
      "text/plain": [
       "'2018-06-10'"
      ]
     },
     "execution_count": 8,
     "metadata": {
      "tags": []
     },
     "output_type": "execute_result"
    }
   ],
   "source": [
    "# from datetime import datetime\n",
    "datetime.today().strftime('%Y-%m-%d')"
   ]
  },
  {
   "cell_type": "code",
   "execution_count": 9,
   "metadata": {
    "colab": {
     "base_uri": "https://localhost:8080/",
     "height": 16
    },
    "colab_type": "code",
    "id": "tuZ-g_rm2_oT",
    "outputId": "46f1ac0e-454f-4ed5-e023-c0dfd6b9e289"
   },
   "outputs": [],
   "source": [
    "# Define which online source one should use\n",
    "data_source = 'yahoo'\n",
    "\n",
    "# We would like all available data from 01/01/2000 until 12/31/2016.\n",
    "start_date = '1986-01-01'\n",
    "start_date = '2000-01-01'\n",
    "end_date = datetime.today().strftime('%Y-%m-%d')"
   ]
  },
  {
   "cell_type": "code",
   "execution_count": 10,
   "metadata": {
    "colab": {
     "base_uri": "https://localhost:8080/",
     "height": 286
    },
    "colab_type": "code",
    "id": "iMlGdLxCjToT",
    "outputId": "43c91923-a3be-4985-edb0-6549aa16f7c5"
   },
   "outputs": [
    {
     "data": {
      "text/html": [
       "<div>\n",
       "<style scoped>\n",
       "    .dataframe tbody tr th:only-of-type {\n",
       "        vertical-align: middle;\n",
       "    }\n",
       "\n",
       "    .dataframe tbody tr th {\n",
       "        vertical-align: top;\n",
       "    }\n",
       "\n",
       "    .dataframe thead tr th {\n",
       "        text-align: left;\n",
       "    }\n",
       "\n",
       "    .dataframe thead tr:last-of-type th {\n",
       "        text-align: right;\n",
       "    }\n",
       "</style>\n",
       "<table border=\"1\" class=\"dataframe\">\n",
       "  <thead>\n",
       "    <tr>\n",
       "      <th>Attributes</th>\n",
       "      <th colspan=\"9\" halign=\"left\">High</th>\n",
       "      <th>Low</th>\n",
       "      <th>...</th>\n",
       "      <th>Volume</th>\n",
       "      <th colspan=\"9\" halign=\"left\">Adj Close</th>\n",
       "    </tr>\n",
       "    <tr>\n",
       "      <th>Symbols</th>\n",
       "      <th>FFXSX</th>\n",
       "      <th>FGOVX</th>\n",
       "      <th>VCVSX</th>\n",
       "      <th>VFIIX</th>\n",
       "      <th>VGHCX</th>\n",
       "      <th>VUSTX</th>\n",
       "      <th>VWAHX</th>\n",
       "      <th>VWEHX</th>\n",
       "      <th>VWINX</th>\n",
       "      <th>FFXSX</th>\n",
       "      <th>...</th>\n",
       "      <th>VWINX</th>\n",
       "      <th>FFXSX</th>\n",
       "      <th>FGOVX</th>\n",
       "      <th>VCVSX</th>\n",
       "      <th>VFIIX</th>\n",
       "      <th>VGHCX</th>\n",
       "      <th>VUSTX</th>\n",
       "      <th>VWAHX</th>\n",
       "      <th>VWEHX</th>\n",
       "      <th>VWINX</th>\n",
       "    </tr>\n",
       "    <tr>\n",
       "      <th>Date</th>\n",
       "      <th></th>\n",
       "      <th></th>\n",
       "      <th></th>\n",
       "      <th></th>\n",
       "      <th></th>\n",
       "      <th></th>\n",
       "      <th></th>\n",
       "      <th></th>\n",
       "      <th></th>\n",
       "      <th></th>\n",
       "      <th></th>\n",
       "      <th></th>\n",
       "      <th></th>\n",
       "      <th></th>\n",
       "      <th></th>\n",
       "      <th></th>\n",
       "      <th></th>\n",
       "      <th></th>\n",
       "      <th></th>\n",
       "      <th></th>\n",
       "      <th></th>\n",
       "    </tr>\n",
       "  </thead>\n",
       "  <tbody>\n",
       "    <tr>\n",
       "      <th>2000-01-03</th>\n",
       "      <td>9.04</td>\n",
       "      <td>9.30</td>\n",
       "      <td>13.45</td>\n",
       "      <td>9.83</td>\n",
       "      <td>94.699997</td>\n",
       "      <td>9.58</td>\n",
       "      <td>10.01</td>\n",
       "      <td>7.37</td>\n",
       "      <td>18.600000</td>\n",
       "      <td>9.04</td>\n",
       "      <td>...</td>\n",
       "      <td>0.0</td>\n",
       "      <td>5.496316</td>\n",
       "      <td>4.483580</td>\n",
       "      <td>4.418780</td>\n",
       "      <td>4.349412</td>\n",
       "      <td>26.726952</td>\n",
       "      <td>3.438077</td>\n",
       "      <td>4.379773</td>\n",
       "      <td>2.032249</td>\n",
       "      <td>7.092514</td>\n",
       "    </tr>\n",
       "    <tr>\n",
       "      <th>2000-01-04</th>\n",
       "      <td>9.05</td>\n",
       "      <td>9.33</td>\n",
       "      <td>13.03</td>\n",
       "      <td>9.83</td>\n",
       "      <td>91.629997</td>\n",
       "      <td>9.65</td>\n",
       "      <td>10.01</td>\n",
       "      <td>7.35</td>\n",
       "      <td>18.520000</td>\n",
       "      <td>9.05</td>\n",
       "      <td>...</td>\n",
       "      <td>0.0</td>\n",
       "      <td>5.502399</td>\n",
       "      <td>4.498044</td>\n",
       "      <td>4.280795</td>\n",
       "      <td>4.349412</td>\n",
       "      <td>25.860510</td>\n",
       "      <td>3.463202</td>\n",
       "      <td>4.379773</td>\n",
       "      <td>2.026736</td>\n",
       "      <td>7.062006</td>\n",
       "    </tr>\n",
       "    <tr>\n",
       "      <th>2000-01-05</th>\n",
       "      <td>9.04</td>\n",
       "      <td>9.29</td>\n",
       "      <td>12.97</td>\n",
       "      <td>9.78</td>\n",
       "      <td>92.900002</td>\n",
       "      <td>9.56</td>\n",
       "      <td>9.99</td>\n",
       "      <td>7.33</td>\n",
       "      <td>18.610001</td>\n",
       "      <td>9.04</td>\n",
       "      <td>...</td>\n",
       "      <td>0.0</td>\n",
       "      <td>5.496316</td>\n",
       "      <td>4.478763</td>\n",
       "      <td>4.261084</td>\n",
       "      <td>4.327292</td>\n",
       "      <td>26.218946</td>\n",
       "      <td>3.430904</td>\n",
       "      <td>4.371021</td>\n",
       "      <td>2.021220</td>\n",
       "      <td>7.096326</td>\n",
       "    </tr>\n",
       "    <tr>\n",
       "      <th>2000-01-06</th>\n",
       "      <td>9.05</td>\n",
       "      <td>9.32</td>\n",
       "      <td>12.89</td>\n",
       "      <td>9.81</td>\n",
       "      <td>95.320000</td>\n",
       "      <td>9.63</td>\n",
       "      <td>9.99</td>\n",
       "      <td>7.33</td>\n",
       "      <td>18.820000</td>\n",
       "      <td>9.05</td>\n",
       "      <td>...</td>\n",
       "      <td>0.0</td>\n",
       "      <td>5.502399</td>\n",
       "      <td>4.493221</td>\n",
       "      <td>4.234804</td>\n",
       "      <td>4.340561</td>\n",
       "      <td>26.901941</td>\n",
       "      <td>3.456023</td>\n",
       "      <td>4.371021</td>\n",
       "      <td>2.021220</td>\n",
       "      <td>7.176404</td>\n",
       "    </tr>\n",
       "    <tr>\n",
       "      <th>2000-01-07</th>\n",
       "      <td>9.05</td>\n",
       "      <td>9.34</td>\n",
       "      <td>13.09</td>\n",
       "      <td>9.83</td>\n",
       "      <td>100.199997</td>\n",
       "      <td>9.67</td>\n",
       "      <td>10.00</td>\n",
       "      <td>7.33</td>\n",
       "      <td>19.010000</td>\n",
       "      <td>9.05</td>\n",
       "      <td>...</td>\n",
       "      <td>0.0</td>\n",
       "      <td>5.502399</td>\n",
       "      <td>4.502867</td>\n",
       "      <td>4.300507</td>\n",
       "      <td>4.349412</td>\n",
       "      <td>28.279205</td>\n",
       "      <td>3.470379</td>\n",
       "      <td>4.375402</td>\n",
       "      <td>2.021220</td>\n",
       "      <td>7.248850</td>\n",
       "    </tr>\n",
       "  </tbody>\n",
       "</table>\n",
       "<p>5 rows × 54 columns</p>\n",
       "</div>"
      ],
      "text/plain": [
       "Attributes  High                                                               \\\n",
       "Symbols    FFXSX FGOVX  VCVSX VFIIX       VGHCX VUSTX  VWAHX VWEHX      VWINX   \n",
       "Date                                                                            \n",
       "2000-01-03  9.04  9.30  13.45  9.83   94.699997  9.58  10.01  7.37  18.600000   \n",
       "2000-01-04  9.05  9.33  13.03  9.83   91.629997  9.65  10.01  7.35  18.520000   \n",
       "2000-01-05  9.04  9.29  12.97  9.78   92.900002  9.56   9.99  7.33  18.610001   \n",
       "2000-01-06  9.05  9.32  12.89  9.81   95.320000  9.63   9.99  7.33  18.820000   \n",
       "2000-01-07  9.05  9.34  13.09  9.83  100.199997  9.67  10.00  7.33  19.010000   \n",
       "\n",
       "Attributes   Low    ...    Volume Adj Close                                \\\n",
       "Symbols    FFXSX    ...     VWINX     FFXSX     FGOVX     VCVSX     VFIIX   \n",
       "Date                ...                                                     \n",
       "2000-01-03  9.04    ...       0.0  5.496316  4.483580  4.418780  4.349412   \n",
       "2000-01-04  9.05    ...       0.0  5.502399  4.498044  4.280795  4.349412   \n",
       "2000-01-05  9.04    ...       0.0  5.496316  4.478763  4.261084  4.327292   \n",
       "2000-01-06  9.05    ...       0.0  5.502399  4.493221  4.234804  4.340561   \n",
       "2000-01-07  9.05    ...       0.0  5.502399  4.502867  4.300507  4.349412   \n",
       "\n",
       "Attributes                                                     \n",
       "Symbols         VGHCX     VUSTX     VWAHX     VWEHX     VWINX  \n",
       "Date                                                           \n",
       "2000-01-03  26.726952  3.438077  4.379773  2.032249  7.092514  \n",
       "2000-01-04  25.860510  3.463202  4.379773  2.026736  7.062006  \n",
       "2000-01-05  26.218946  3.430904  4.371021  2.021220  7.096326  \n",
       "2000-01-06  26.901941  3.456023  4.371021  2.021220  7.176404  \n",
       "2000-01-07  28.279205  3.470379  4.375402  2.021220  7.248850  \n",
       "\n",
       "[5 rows x 54 columns]"
      ]
     },
     "execution_count": 10,
     "metadata": {
      "tags": []
     },
     "output_type": "execute_result"
    }
   ],
   "source": [
    "# User pandas_reader.data.DataReader to load the desired data. As simple as that.\n",
    "panel_data = web.DataReader(tickers, data_source, start_date, end_date)\n",
    "\n",
    "panel_data[:5]"
   ]
  },
  {
   "cell_type": "code",
   "execution_count": 11,
   "metadata": {
    "colab": {
     "base_uri": "https://localhost:8080/",
     "height": 227
    },
    "colab_type": "code",
    "id": "H3OAtPRklZIo",
    "outputId": "6c4c0d3e-987b-439d-f12c-aa40563f4faf"
   },
   "outputs": [
    {
     "data": {
      "text/html": [
       "<div>\n",
       "<style scoped>\n",
       "    .dataframe tbody tr th:only-of-type {\n",
       "        vertical-align: middle;\n",
       "    }\n",
       "\n",
       "    .dataframe tbody tr th {\n",
       "        vertical-align: top;\n",
       "    }\n",
       "\n",
       "    .dataframe thead th {\n",
       "        text-align: right;\n",
       "    }\n",
       "</style>\n",
       "<table border=\"1\" class=\"dataframe\">\n",
       "  <thead>\n",
       "    <tr style=\"text-align: right;\">\n",
       "      <th>Symbols</th>\n",
       "      <th>FFXSX</th>\n",
       "      <th>FGOVX</th>\n",
       "      <th>VCVSX</th>\n",
       "      <th>VFIIX</th>\n",
       "      <th>VGHCX</th>\n",
       "      <th>VUSTX</th>\n",
       "      <th>VWAHX</th>\n",
       "      <th>VWEHX</th>\n",
       "      <th>VWINX</th>\n",
       "    </tr>\n",
       "    <tr>\n",
       "      <th>Date</th>\n",
       "      <th></th>\n",
       "      <th></th>\n",
       "      <th></th>\n",
       "      <th></th>\n",
       "      <th></th>\n",
       "      <th></th>\n",
       "      <th></th>\n",
       "      <th></th>\n",
       "      <th></th>\n",
       "    </tr>\n",
       "  </thead>\n",
       "  <tbody>\n",
       "    <tr>\n",
       "      <th>2000-01-03</th>\n",
       "      <td>5.496316</td>\n",
       "      <td>4.483580</td>\n",
       "      <td>4.418780</td>\n",
       "      <td>4.349412</td>\n",
       "      <td>26.726952</td>\n",
       "      <td>3.438077</td>\n",
       "      <td>4.379773</td>\n",
       "      <td>2.032249</td>\n",
       "      <td>7.092514</td>\n",
       "    </tr>\n",
       "    <tr>\n",
       "      <th>2000-01-04</th>\n",
       "      <td>5.502399</td>\n",
       "      <td>4.498044</td>\n",
       "      <td>4.280795</td>\n",
       "      <td>4.349412</td>\n",
       "      <td>25.860510</td>\n",
       "      <td>3.463202</td>\n",
       "      <td>4.379773</td>\n",
       "      <td>2.026736</td>\n",
       "      <td>7.062006</td>\n",
       "    </tr>\n",
       "    <tr>\n",
       "      <th>2000-01-05</th>\n",
       "      <td>5.496316</td>\n",
       "      <td>4.478763</td>\n",
       "      <td>4.261084</td>\n",
       "      <td>4.327292</td>\n",
       "      <td>26.218946</td>\n",
       "      <td>3.430904</td>\n",
       "      <td>4.371021</td>\n",
       "      <td>2.021220</td>\n",
       "      <td>7.096326</td>\n",
       "    </tr>\n",
       "    <tr>\n",
       "      <th>2000-01-06</th>\n",
       "      <td>5.502399</td>\n",
       "      <td>4.493221</td>\n",
       "      <td>4.234804</td>\n",
       "      <td>4.340561</td>\n",
       "      <td>26.901941</td>\n",
       "      <td>3.456023</td>\n",
       "      <td>4.371021</td>\n",
       "      <td>2.021220</td>\n",
       "      <td>7.176404</td>\n",
       "    </tr>\n",
       "    <tr>\n",
       "      <th>2000-01-07</th>\n",
       "      <td>5.502399</td>\n",
       "      <td>4.502867</td>\n",
       "      <td>4.300507</td>\n",
       "      <td>4.349412</td>\n",
       "      <td>28.279205</td>\n",
       "      <td>3.470379</td>\n",
       "      <td>4.375402</td>\n",
       "      <td>2.021220</td>\n",
       "      <td>7.248850</td>\n",
       "    </tr>\n",
       "  </tbody>\n",
       "</table>\n",
       "</div>"
      ],
      "text/plain": [
       "Symbols        FFXSX     FGOVX     VCVSX     VFIIX      VGHCX     VUSTX  \\\n",
       "Date                                                                      \n",
       "2000-01-03  5.496316  4.483580  4.418780  4.349412  26.726952  3.438077   \n",
       "2000-01-04  5.502399  4.498044  4.280795  4.349412  25.860510  3.463202   \n",
       "2000-01-05  5.496316  4.478763  4.261084  4.327292  26.218946  3.430904   \n",
       "2000-01-06  5.502399  4.493221  4.234804  4.340561  26.901941  3.456023   \n",
       "2000-01-07  5.502399  4.502867  4.300507  4.349412  28.279205  3.470379   \n",
       "\n",
       "Symbols        VWAHX     VWEHX     VWINX  \n",
       "Date                                      \n",
       "2000-01-03  4.379773  2.032249  7.092514  \n",
       "2000-01-04  4.379773  2.026736  7.062006  \n",
       "2000-01-05  4.371021  2.021220  7.096326  \n",
       "2000-01-06  4.371021  2.021220  7.176404  \n",
       "2000-01-07  4.375402  2.021220  7.248850  "
      ]
     },
     "execution_count": 11,
     "metadata": {
      "tags": []
     },
     "output_type": "execute_result"
    }
   ],
   "source": [
    "data = panel_data['Adj Close'].sort_index(ascending=True)\n",
    "data[:5]"
   ]
  },
  {
   "cell_type": "code",
   "execution_count": 12,
   "metadata": {
    "colab": {
     "base_uri": "https://localhost:8080/",
     "height": 227
    },
    "colab_type": "code",
    "id": "jyJVILJ8lZIu",
    "outputId": "cd7ef6dc-f749-4a73-d5c7-66462266396e"
   },
   "outputs": [
    {
     "data": {
      "text/html": [
       "<div>\n",
       "<style scoped>\n",
       "    .dataframe tbody tr th:only-of-type {\n",
       "        vertical-align: middle;\n",
       "    }\n",
       "\n",
       "    .dataframe tbody tr th {\n",
       "        vertical-align: top;\n",
       "    }\n",
       "\n",
       "    .dataframe thead th {\n",
       "        text-align: right;\n",
       "    }\n",
       "</style>\n",
       "<table border=\"1\" class=\"dataframe\">\n",
       "  <thead>\n",
       "    <tr style=\"text-align: right;\">\n",
       "      <th>Symbols</th>\n",
       "      <th>FFXSX</th>\n",
       "      <th>FGOVX</th>\n",
       "      <th>VCVSX</th>\n",
       "      <th>VFIIX</th>\n",
       "      <th>VGHCX</th>\n",
       "      <th>VUSTX</th>\n",
       "      <th>VWAHX</th>\n",
       "      <th>VWEHX</th>\n",
       "      <th>VWINX</th>\n",
       "    </tr>\n",
       "    <tr>\n",
       "      <th>Date</th>\n",
       "      <th></th>\n",
       "      <th></th>\n",
       "      <th></th>\n",
       "      <th></th>\n",
       "      <th></th>\n",
       "      <th></th>\n",
       "      <th></th>\n",
       "      <th></th>\n",
       "      <th></th>\n",
       "    </tr>\n",
       "  </thead>\n",
       "  <tbody>\n",
       "    <tr>\n",
       "      <th>2000-01-03</th>\n",
       "      <td>5.496316</td>\n",
       "      <td>4.483580</td>\n",
       "      <td>4.418780</td>\n",
       "      <td>4.349412</td>\n",
       "      <td>26.726952</td>\n",
       "      <td>3.438077</td>\n",
       "      <td>4.379773</td>\n",
       "      <td>2.032249</td>\n",
       "      <td>7.092514</td>\n",
       "    </tr>\n",
       "    <tr>\n",
       "      <th>2000-01-04</th>\n",
       "      <td>5.502399</td>\n",
       "      <td>4.498044</td>\n",
       "      <td>4.280795</td>\n",
       "      <td>4.349412</td>\n",
       "      <td>25.860510</td>\n",
       "      <td>3.463202</td>\n",
       "      <td>4.379773</td>\n",
       "      <td>2.026736</td>\n",
       "      <td>7.062006</td>\n",
       "    </tr>\n",
       "    <tr>\n",
       "      <th>2000-01-05</th>\n",
       "      <td>5.496316</td>\n",
       "      <td>4.478763</td>\n",
       "      <td>4.261084</td>\n",
       "      <td>4.327292</td>\n",
       "      <td>26.218946</td>\n",
       "      <td>3.430904</td>\n",
       "      <td>4.371021</td>\n",
       "      <td>2.021220</td>\n",
       "      <td>7.096326</td>\n",
       "    </tr>\n",
       "    <tr>\n",
       "      <th>2000-01-06</th>\n",
       "      <td>5.502399</td>\n",
       "      <td>4.493221</td>\n",
       "      <td>4.234804</td>\n",
       "      <td>4.340561</td>\n",
       "      <td>26.901941</td>\n",
       "      <td>3.456023</td>\n",
       "      <td>4.371021</td>\n",
       "      <td>2.021220</td>\n",
       "      <td>7.176404</td>\n",
       "    </tr>\n",
       "    <tr>\n",
       "      <th>2000-01-07</th>\n",
       "      <td>5.502399</td>\n",
       "      <td>4.502867</td>\n",
       "      <td>4.300507</td>\n",
       "      <td>4.349412</td>\n",
       "      <td>28.279205</td>\n",
       "      <td>3.470379</td>\n",
       "      <td>4.375402</td>\n",
       "      <td>2.021220</td>\n",
       "      <td>7.248850</td>\n",
       "    </tr>\n",
       "  </tbody>\n",
       "</table>\n",
       "</div>"
      ],
      "text/plain": [
       "Symbols        FFXSX     FGOVX     VCVSX     VFIIX      VGHCX     VUSTX  \\\n",
       "Date                                                                      \n",
       "2000-01-03  5.496316  4.483580  4.418780  4.349412  26.726952  3.438077   \n",
       "2000-01-04  5.502399  4.498044  4.280795  4.349412  25.860510  3.463202   \n",
       "2000-01-05  5.496316  4.478763  4.261084  4.327292  26.218946  3.430904   \n",
       "2000-01-06  5.502399  4.493221  4.234804  4.340561  26.901941  3.456023   \n",
       "2000-01-07  5.502399  4.502867  4.300507  4.349412  28.279205  3.470379   \n",
       "\n",
       "Symbols        VWAHX     VWEHX     VWINX  \n",
       "Date                                      \n",
       "2000-01-03  4.379773  2.032249  7.092514  \n",
       "2000-01-04  4.379773  2.026736  7.062006  \n",
       "2000-01-05  4.371021  2.021220  7.096326  \n",
       "2000-01-06  4.371021  2.021220  7.176404  \n",
       "2000-01-07  4.375402  2.021220  7.248850  "
      ]
     },
     "execution_count": 12,
     "metadata": {
      "tags": []
     },
     "output_type": "execute_result"
    }
   ],
   "source": [
    "prices = data.copy().dropna()\n",
    "prices[:5]"
   ]
  },
  {
   "cell_type": "code",
   "execution_count": 13,
   "metadata": {
    "colab": {
     "base_uri": "https://localhost:8080/",
     "height": 16
    },
    "colab_type": "code",
    "id": "Ww-SrUs6lZIz",
    "outputId": "249d87c3-422e-4d91-dcce-4c83482f20f3"
   },
   "outputs": [],
   "source": [
    "end_points = endpoints(period='M', trading_days=prices.index)\n",
    "prices_m = prices.loc[end_points]\n",
    "\n",
    "rs_lookback = 1\n",
    "risk_lookback = 1\n",
    "n_top = 3"
   ]
  },
  {
   "cell_type": "code",
   "execution_count": 14,
   "metadata": {
    "colab": {
     "base_uri": "https://localhost:8080/",
     "height": 34
    },
    "colab_type": "code",
    "id": "rQcLOaFtlZI2",
    "outputId": "90c355e8-907a-4ae1-c118-d38ab446dfb5"
   },
   "outputs": [
    {
     "name": "stdout",
     "output_type": "stream",
     "text": [
      "['VCVSX', 'VWINX', 'VWEHX', 'VGHCX', 'VFIIX', 'VWAHX', 'FGOVX', 'FFXSX']\n"
     ]
    }
   ],
   "source": [
    "print(symbols)"
   ]
  },
  {
   "cell_type": "code",
   "execution_count": 15,
   "metadata": {
    "colab": {
     "base_uri": "https://localhost:8080/",
     "height": 16
    },
    "colab_type": "code",
    "id": "uXNhwSyLlZI7",
    "outputId": "da9f53c9-6416-490b-8ea4-80f17286c181"
   },
   "outputs": [],
   "source": [
    "returns = prices_m[symbols].pct_change(rs_lookback)[rs_lookback:]\n",
    "absolute_momentum_rule = returns > 0\n",
    "if isinstance(risk_free, int) :\n",
    "    excess_returns = returns\n",
    "else :\n",
    "    risk_free_returns =  prices_m[risk_free].pct_change(rs_lookback)[rs_lookback:]\n",
    "    excess_returns = returns.subtract(risk_free_returns, axis=0).dropna()\n",
    "    \n",
    "rebalance_dates = excess_returns.index.join(absolute_momentum_rule.index, how='inner')"
   ]
  },
  {
   "cell_type": "code",
   "execution_count": 16,
   "metadata": {
    "colab": {
     "base_uri": "https://localhost:8080/",
     "height": 167
    },
    "colab_type": "code",
    "id": "uUXNez-OlZI-",
    "outputId": "72439d8c-056e-41a5-d739-62e9f20e21e2"
   },
   "outputs": [
    {
     "data": {
      "text/html": [
       "<div>\n",
       "<style scoped>\n",
       "    .dataframe tbody tr th:only-of-type {\n",
       "        vertical-align: middle;\n",
       "    }\n",
       "\n",
       "    .dataframe tbody tr th {\n",
       "        vertical-align: top;\n",
       "    }\n",
       "\n",
       "    .dataframe thead th {\n",
       "        text-align: right;\n",
       "    }\n",
       "</style>\n",
       "<table border=\"1\" class=\"dataframe\">\n",
       "  <thead>\n",
       "    <tr style=\"text-align: right;\">\n",
       "      <th>Symbols</th>\n",
       "      <th>VCVSX</th>\n",
       "      <th>VWINX</th>\n",
       "      <th>VWEHX</th>\n",
       "      <th>VGHCX</th>\n",
       "      <th>VFIIX</th>\n",
       "      <th>VWAHX</th>\n",
       "      <th>FGOVX</th>\n",
       "      <th>FFXSX</th>\n",
       "    </tr>\n",
       "    <tr>\n",
       "      <th>Date</th>\n",
       "      <th></th>\n",
       "      <th></th>\n",
       "      <th></th>\n",
       "      <th></th>\n",
       "      <th></th>\n",
       "      <th></th>\n",
       "      <th></th>\n",
       "      <th></th>\n",
       "    </tr>\n",
       "  </thead>\n",
       "  <tbody>\n",
       "    <tr>\n",
       "      <th>2000-02-29</th>\n",
       "      <td>0.105874</td>\n",
       "      <td>-0.030011</td>\n",
       "      <td>0.001412</td>\n",
       "      <td>0.021246</td>\n",
       "      <td>0.014156</td>\n",
       "      <td>0.014916</td>\n",
       "      <td>0.013707</td>\n",
       "      <td>0.007472</td>\n",
       "    </tr>\n",
       "    <tr>\n",
       "      <th>2000-03-31</th>\n",
       "      <td>0.006971</td>\n",
       "      <td>0.056018</td>\n",
       "      <td>-0.009069</td>\n",
       "      <td>0.082158</td>\n",
       "      <td>0.017121</td>\n",
       "      <td>0.023099</td>\n",
       "      <td>0.013908</td>\n",
       "      <td>0.007791</td>\n",
       "    </tr>\n",
       "    <tr>\n",
       "      <th>2000-04-28</th>\n",
       "      <td>-0.049836</td>\n",
       "      <td>0.001592</td>\n",
       "      <td>0.007499</td>\n",
       "      <td>0.023139</td>\n",
       "      <td>-0.001285</td>\n",
       "      <td>-0.005105</td>\n",
       "      <td>-0.002196</td>\n",
       "      <td>0.002126</td>\n",
       "    </tr>\n",
       "  </tbody>\n",
       "</table>\n",
       "</div>"
      ],
      "text/plain": [
       "Symbols        VCVSX     VWINX     VWEHX     VGHCX     VFIIX     VWAHX  \\\n",
       "Date                                                                     \n",
       "2000-02-29  0.105874 -0.030011  0.001412  0.021246  0.014156  0.014916   \n",
       "2000-03-31  0.006971  0.056018 -0.009069  0.082158  0.017121  0.023099   \n",
       "2000-04-28 -0.049836  0.001592  0.007499  0.023139 -0.001285 -0.005105   \n",
       "\n",
       "Symbols        FGOVX     FFXSX  \n",
       "Date                            \n",
       "2000-02-29  0.013707  0.007472  \n",
       "2000-03-31  0.013908  0.007791  \n",
       "2000-04-28 -0.002196  0.002126  "
      ]
     },
     "execution_count": 16,
     "metadata": {
      "tags": []
     },
     "output_type": "execute_result"
    }
   ],
   "source": [
    "returns[:3]"
   ]
  },
  {
   "cell_type": "code",
   "execution_count": 17,
   "metadata": {
    "colab": {
     "base_uri": "https://localhost:8080/",
     "height": 167
    },
    "colab_type": "code",
    "id": "6VKUhy8blZJD",
    "outputId": "0368a34f-c66d-4d1d-f249-b6e7d7858dc2"
   },
   "outputs": [
    {
     "data": {
      "text/html": [
       "<div>\n",
       "<style scoped>\n",
       "    .dataframe tbody tr th:only-of-type {\n",
       "        vertical-align: middle;\n",
       "    }\n",
       "\n",
       "    .dataframe tbody tr th {\n",
       "        vertical-align: top;\n",
       "    }\n",
       "\n",
       "    .dataframe thead th {\n",
       "        text-align: right;\n",
       "    }\n",
       "</style>\n",
       "<table border=\"1\" class=\"dataframe\">\n",
       "  <thead>\n",
       "    <tr style=\"text-align: right;\">\n",
       "      <th>Symbols</th>\n",
       "      <th>VCVSX</th>\n",
       "      <th>VWINX</th>\n",
       "      <th>VWEHX</th>\n",
       "      <th>VGHCX</th>\n",
       "      <th>VFIIX</th>\n",
       "      <th>VWAHX</th>\n",
       "      <th>FGOVX</th>\n",
       "      <th>FFXSX</th>\n",
       "    </tr>\n",
       "    <tr>\n",
       "      <th>Date</th>\n",
       "      <th></th>\n",
       "      <th></th>\n",
       "      <th></th>\n",
       "      <th></th>\n",
       "      <th></th>\n",
       "      <th></th>\n",
       "      <th></th>\n",
       "      <th></th>\n",
       "    </tr>\n",
       "  </thead>\n",
       "  <tbody>\n",
       "    <tr>\n",
       "      <th>2000-02-29</th>\n",
       "      <td>True</td>\n",
       "      <td>False</td>\n",
       "      <td>False</td>\n",
       "      <td>True</td>\n",
       "      <td>False</td>\n",
       "      <td>True</td>\n",
       "      <td>False</td>\n",
       "      <td>False</td>\n",
       "    </tr>\n",
       "    <tr>\n",
       "      <th>2000-03-31</th>\n",
       "      <td>False</td>\n",
       "      <td>True</td>\n",
       "      <td>False</td>\n",
       "      <td>True</td>\n",
       "      <td>False</td>\n",
       "      <td>True</td>\n",
       "      <td>False</td>\n",
       "      <td>False</td>\n",
       "    </tr>\n",
       "    <tr>\n",
       "      <th>2000-04-28</th>\n",
       "      <td>False</td>\n",
       "      <td>False</td>\n",
       "      <td>True</td>\n",
       "      <td>True</td>\n",
       "      <td>False</td>\n",
       "      <td>False</td>\n",
       "      <td>False</td>\n",
       "      <td>True</td>\n",
       "    </tr>\n",
       "  </tbody>\n",
       "</table>\n",
       "</div>"
      ],
      "text/plain": [
       "Symbols     VCVSX  VWINX  VWEHX  VGHCX  VFIIX  VWAHX  FGOVX  FFXSX\n",
       "Date                                                              \n",
       "2000-02-29   True  False  False   True  False   True  False  False\n",
       "2000-03-31  False   True  False   True  False   True  False  False\n",
       "2000-04-28  False  False   True   True  False  False  False   True"
      ]
     },
     "execution_count": 17,
     "metadata": {
      "tags": []
     },
     "output_type": "execute_result"
    }
   ],
   "source": [
    "# relative strength ranking               \n",
    "ranked = excess_returns.loc[rebalance_dates][symbols].rank(ascending=False, axis=1, method='dense')\n",
    "# elligibility rule - top n_top ranked securities\n",
    "elligible = ranked[ranked<=n_top] > 0\n",
    "elligible[:3]"
   ]
  },
  {
   "cell_type": "code",
   "execution_count": 18,
   "metadata": {
    "colab": {
     "base_uri": "https://localhost:8080/",
     "height": 167
    },
    "colab_type": "code",
    "id": "4cksxO3VlZJH",
    "outputId": "bfd03172-3fa7-4cff-ecec-ec1e18f8d462"
   },
   "outputs": [
    {
     "data": {
      "text/html": [
       "<div>\n",
       "<style scoped>\n",
       "    .dataframe tbody tr th:only-of-type {\n",
       "        vertical-align: middle;\n",
       "    }\n",
       "\n",
       "    .dataframe tbody tr th {\n",
       "        vertical-align: top;\n",
       "    }\n",
       "\n",
       "    .dataframe thead th {\n",
       "        text-align: right;\n",
       "    }\n",
       "</style>\n",
       "<table border=\"1\" class=\"dataframe\">\n",
       "  <thead>\n",
       "    <tr style=\"text-align: right;\">\n",
       "      <th>Symbols</th>\n",
       "      <th>VCVSX</th>\n",
       "      <th>VWINX</th>\n",
       "      <th>VWEHX</th>\n",
       "      <th>VGHCX</th>\n",
       "      <th>VFIIX</th>\n",
       "      <th>VWAHX</th>\n",
       "      <th>FGOVX</th>\n",
       "      <th>FFXSX</th>\n",
       "    </tr>\n",
       "    <tr>\n",
       "      <th>Date</th>\n",
       "      <th></th>\n",
       "      <th></th>\n",
       "      <th></th>\n",
       "      <th></th>\n",
       "      <th></th>\n",
       "      <th></th>\n",
       "      <th></th>\n",
       "      <th></th>\n",
       "    </tr>\n",
       "  </thead>\n",
       "  <tbody>\n",
       "    <tr>\n",
       "      <th>2000-02-29</th>\n",
       "      <td>0.333333</td>\n",
       "      <td>0.000000</td>\n",
       "      <td>0.000000</td>\n",
       "      <td>0.333333</td>\n",
       "      <td>0.0</td>\n",
       "      <td>0.333333</td>\n",
       "      <td>0.0</td>\n",
       "      <td>0.000000</td>\n",
       "    </tr>\n",
       "    <tr>\n",
       "      <th>2000-03-31</th>\n",
       "      <td>0.000000</td>\n",
       "      <td>0.333333</td>\n",
       "      <td>0.000000</td>\n",
       "      <td>0.333333</td>\n",
       "      <td>0.0</td>\n",
       "      <td>0.333333</td>\n",
       "      <td>0.0</td>\n",
       "      <td>0.000000</td>\n",
       "    </tr>\n",
       "    <tr>\n",
       "      <th>2000-04-28</th>\n",
       "      <td>0.000000</td>\n",
       "      <td>0.000000</td>\n",
       "      <td>0.333333</td>\n",
       "      <td>0.333333</td>\n",
       "      <td>0.0</td>\n",
       "      <td>0.000000</td>\n",
       "      <td>0.0</td>\n",
       "      <td>0.333333</td>\n",
       "    </tr>\n",
       "  </tbody>\n",
       "</table>\n",
       "</div>"
      ],
      "text/plain": [
       "Symbols        VCVSX     VWINX     VWEHX     VGHCX  VFIIX     VWAHX  FGOVX  \\\n",
       "Date                                                                         \n",
       "2000-02-29  0.333333  0.000000  0.000000  0.333333    0.0  0.333333    0.0   \n",
       "2000-03-31  0.000000  0.333333  0.000000  0.333333    0.0  0.333333    0.0   \n",
       "2000-04-28  0.000000  0.000000  0.333333  0.333333    0.0  0.000000    0.0   \n",
       "\n",
       "Symbols        FFXSX  \n",
       "Date                  \n",
       "2000-02-29  0.000000  \n",
       "2000-03-31  0.000000  \n",
       "2000-04-28  0.333333  "
      ]
     },
     "execution_count": 18,
     "metadata": {
      "tags": []
     },
     "output_type": "execute_result"
    }
   ],
   "source": [
    "# equal weight allocations\n",
    "elligible = elligible.multiply(1./elligible.sum(1), axis=0)\n",
    "elligible[:3]"
   ]
  },
  {
   "cell_type": "code",
   "execution_count": 19,
   "metadata": {
    "colab": {
     "base_uri": "https://localhost:8080/",
     "height": 70
    },
    "colab_type": "code",
    "id": "ana7kJj0lZJW",
    "outputId": "aeb55b2a-6411-4fab-d43c-73054bc26047"
   },
   "outputs": [
    {
     "data": {
      "text/plain": [
       "Index(['FFXSX', 'FGOVX', 'VCVSX', 'VFIIX', 'VGHCX', 'VUSTX', 'VWAHX', 'VWEHX',\n",
       "       'VWINX'],\n",
       "      dtype='object', name='Symbols')"
      ]
     },
     "execution_count": 19,
     "metadata": {
      "tags": []
     },
     "output_type": "execute_result"
    }
   ],
   "source": [
    "prices.columns"
   ]
  },
  {
   "cell_type": "code",
   "execution_count": 20,
   "metadata": {
    "colab": {
     "base_uri": "https://localhost:8080/",
     "height": 34
    },
    "colab_type": "code",
    "id": "xoAeozdklZJb",
    "outputId": "fd1f70e5-bf4f-48a9-be3a-2ee00e23cbae"
   },
   "outputs": [
    {
     "data": {
      "text/plain": [
       "'VUSTX'"
      ]
     },
     "execution_count": 20,
     "metadata": {
      "tags": []
     },
     "output_type": "execute_result"
    }
   ],
   "source": [
    "cash_proxy"
   ]
  },
  {
   "cell_type": "code",
   "execution_count": 21,
   "metadata": {
    "colab": {
     "base_uri": "https://localhost:8080/",
     "height": 377
    },
    "colab_type": "code",
    "id": "blXCwL7clZJh",
    "outputId": "9ba6a94d-aa1d-467f-c6fd-9cfd855bc307"
   },
   "outputs": [
    {
     "data": {
      "text/html": [
       "<div>\n",
       "<style scoped>\n",
       "    .dataframe tbody tr th:only-of-type {\n",
       "        vertical-align: middle;\n",
       "    }\n",
       "\n",
       "    .dataframe tbody tr th {\n",
       "        vertical-align: top;\n",
       "    }\n",
       "\n",
       "    .dataframe thead th {\n",
       "        text-align: right;\n",
       "    }\n",
       "</style>\n",
       "<table border=\"1\" class=\"dataframe\">\n",
       "  <thead>\n",
       "    <tr style=\"text-align: right;\">\n",
       "      <th>Symbols</th>\n",
       "      <th>FFXSX</th>\n",
       "      <th>FGOVX</th>\n",
       "      <th>VCVSX</th>\n",
       "      <th>VFIIX</th>\n",
       "      <th>VGHCX</th>\n",
       "      <th>VUSTX</th>\n",
       "      <th>VWAHX</th>\n",
       "      <th>VWEHX</th>\n",
       "      <th>VWINX</th>\n",
       "    </tr>\n",
       "    <tr>\n",
       "      <th>Date</th>\n",
       "      <th></th>\n",
       "      <th></th>\n",
       "      <th></th>\n",
       "      <th></th>\n",
       "      <th></th>\n",
       "      <th></th>\n",
       "      <th></th>\n",
       "      <th></th>\n",
       "      <th></th>\n",
       "    </tr>\n",
       "  </thead>\n",
       "  <tbody>\n",
       "    <tr>\n",
       "      <th>2000-02-29</th>\n",
       "      <td>0.000000</td>\n",
       "      <td>0.000000</td>\n",
       "      <td>0.333333</td>\n",
       "      <td>0.000000</td>\n",
       "      <td>0.333333</td>\n",
       "      <td>0.0</td>\n",
       "      <td>0.333333</td>\n",
       "      <td>0.000000</td>\n",
       "      <td>0.000000</td>\n",
       "    </tr>\n",
       "    <tr>\n",
       "      <th>2000-03-31</th>\n",
       "      <td>0.000000</td>\n",
       "      <td>0.000000</td>\n",
       "      <td>0.000000</td>\n",
       "      <td>0.000000</td>\n",
       "      <td>0.333333</td>\n",
       "      <td>0.0</td>\n",
       "      <td>0.333333</td>\n",
       "      <td>0.000000</td>\n",
       "      <td>0.333333</td>\n",
       "    </tr>\n",
       "    <tr>\n",
       "      <th>2000-04-28</th>\n",
       "      <td>0.333333</td>\n",
       "      <td>0.000000</td>\n",
       "      <td>0.000000</td>\n",
       "      <td>0.000000</td>\n",
       "      <td>0.333333</td>\n",
       "      <td>0.0</td>\n",
       "      <td>0.000000</td>\n",
       "      <td>0.333333</td>\n",
       "      <td>0.000000</td>\n",
       "    </tr>\n",
       "    <tr>\n",
       "      <th>2000-05-31</th>\n",
       "      <td>0.000000</td>\n",
       "      <td>0.000000</td>\n",
       "      <td>0.000000</td>\n",
       "      <td>0.333333</td>\n",
       "      <td>0.333333</td>\n",
       "      <td>0.0</td>\n",
       "      <td>0.000000</td>\n",
       "      <td>0.000000</td>\n",
       "      <td>0.333333</td>\n",
       "    </tr>\n",
       "    <tr>\n",
       "      <th>2000-06-30</th>\n",
       "      <td>0.000000</td>\n",
       "      <td>0.000000</td>\n",
       "      <td>0.333333</td>\n",
       "      <td>0.000000</td>\n",
       "      <td>0.333333</td>\n",
       "      <td>0.0</td>\n",
       "      <td>0.333333</td>\n",
       "      <td>0.000000</td>\n",
       "      <td>0.000000</td>\n",
       "    </tr>\n",
       "    <tr>\n",
       "      <th>2000-07-31</th>\n",
       "      <td>0.000000</td>\n",
       "      <td>0.000000</td>\n",
       "      <td>0.000000</td>\n",
       "      <td>0.000000</td>\n",
       "      <td>0.000000</td>\n",
       "      <td>0.0</td>\n",
       "      <td>0.333333</td>\n",
       "      <td>0.333333</td>\n",
       "      <td>0.333333</td>\n",
       "    </tr>\n",
       "    <tr>\n",
       "      <th>2000-08-31</th>\n",
       "      <td>0.000000</td>\n",
       "      <td>0.000000</td>\n",
       "      <td>0.333333</td>\n",
       "      <td>0.000000</td>\n",
       "      <td>0.333333</td>\n",
       "      <td>0.0</td>\n",
       "      <td>0.000000</td>\n",
       "      <td>0.000000</td>\n",
       "      <td>0.333333</td>\n",
       "    </tr>\n",
       "    <tr>\n",
       "      <th>2000-09-29</th>\n",
       "      <td>0.000000</td>\n",
       "      <td>0.000000</td>\n",
       "      <td>0.000000</td>\n",
       "      <td>0.333333</td>\n",
       "      <td>0.333333</td>\n",
       "      <td>0.0</td>\n",
       "      <td>0.000000</td>\n",
       "      <td>0.000000</td>\n",
       "      <td>0.333333</td>\n",
       "    </tr>\n",
       "    <tr>\n",
       "      <th>2000-10-31</th>\n",
       "      <td>0.000000</td>\n",
       "      <td>0.333333</td>\n",
       "      <td>0.000000</td>\n",
       "      <td>0.000000</td>\n",
       "      <td>0.333333</td>\n",
       "      <td>0.0</td>\n",
       "      <td>0.000000</td>\n",
       "      <td>0.000000</td>\n",
       "      <td>0.333333</td>\n",
       "    </tr>\n",
       "    <tr>\n",
       "      <th>2000-11-30</th>\n",
       "      <td>0.000000</td>\n",
       "      <td>0.333333</td>\n",
       "      <td>0.000000</td>\n",
       "      <td>0.333333</td>\n",
       "      <td>0.333333</td>\n",
       "      <td>0.0</td>\n",
       "      <td>0.000000</td>\n",
       "      <td>0.000000</td>\n",
       "      <td>0.000000</td>\n",
       "    </tr>\n",
       "  </tbody>\n",
       "</table>\n",
       "</div>"
      ],
      "text/plain": [
       "Symbols        FFXSX     FGOVX     VCVSX     VFIIX     VGHCX  VUSTX     VWAHX  \\\n",
       "Date                                                                            \n",
       "2000-02-29  0.000000  0.000000  0.333333  0.000000  0.333333    0.0  0.333333   \n",
       "2000-03-31  0.000000  0.000000  0.000000  0.000000  0.333333    0.0  0.333333   \n",
       "2000-04-28  0.333333  0.000000  0.000000  0.000000  0.333333    0.0  0.000000   \n",
       "2000-05-31  0.000000  0.000000  0.000000  0.333333  0.333333    0.0  0.000000   \n",
       "2000-06-30  0.000000  0.000000  0.333333  0.000000  0.333333    0.0  0.333333   \n",
       "2000-07-31  0.000000  0.000000  0.000000  0.000000  0.000000    0.0  0.333333   \n",
       "2000-08-31  0.000000  0.000000  0.333333  0.000000  0.333333    0.0  0.000000   \n",
       "2000-09-29  0.000000  0.000000  0.000000  0.333333  0.333333    0.0  0.000000   \n",
       "2000-10-31  0.000000  0.333333  0.000000  0.000000  0.333333    0.0  0.000000   \n",
       "2000-11-30  0.000000  0.333333  0.000000  0.333333  0.333333    0.0  0.000000   \n",
       "\n",
       "Symbols        VWEHX     VWINX  \n",
       "Date                            \n",
       "2000-02-29  0.000000  0.000000  \n",
       "2000-03-31  0.000000  0.333333  \n",
       "2000-04-28  0.333333  0.000000  \n",
       "2000-05-31  0.000000  0.333333  \n",
       "2000-06-30  0.000000  0.000000  \n",
       "2000-07-31  0.333333  0.333333  \n",
       "2000-08-31  0.000000  0.333333  \n",
       "2000-09-29  0.000000  0.333333  \n",
       "2000-10-31  0.000000  0.333333  \n",
       "2000-11-30  0.000000  0.000000  "
      ]
     },
     "execution_count": 21,
     "metadata": {
      "tags": []
     },
     "output_type": "execute_result"
    }
   ],
   "source": [
    "# downside protection\n",
    "weights = pd.DataFrame(0.,index=elligible.index, columns=prices.columns)\n",
    "if cash_proxy == 'CASHX' :\n",
    "    weights[cash_proxy] = 0\n",
    "    prices[cash_proxy] = 1.\n",
    "weights[symbols] = (elligible * absolute_momentum_rule).dropna() \n",
    "weights[:10]"
   ]
  },
  {
   "cell_type": "code",
   "execution_count": 22,
   "metadata": {
    "colab": {
     "base_uri": "https://localhost:8080/",
     "height": 377
    },
    "colab_type": "code",
    "id": "eOViXQbQlZJn",
    "outputId": "780b9b47-4963-40b0-88d0-54d7605f7260"
   },
   "outputs": [
    {
     "data": {
      "text/html": [
       "<div>\n",
       "<style scoped>\n",
       "    .dataframe tbody tr th:only-of-type {\n",
       "        vertical-align: middle;\n",
       "    }\n",
       "\n",
       "    .dataframe tbody tr th {\n",
       "        vertical-align: top;\n",
       "    }\n",
       "\n",
       "    .dataframe thead th {\n",
       "        text-align: right;\n",
       "    }\n",
       "</style>\n",
       "<table border=\"1\" class=\"dataframe\">\n",
       "  <thead>\n",
       "    <tr style=\"text-align: right;\">\n",
       "      <th>Symbols</th>\n",
       "      <th>FFXSX</th>\n",
       "      <th>FGOVX</th>\n",
       "      <th>VCVSX</th>\n",
       "      <th>VFIIX</th>\n",
       "      <th>VGHCX</th>\n",
       "      <th>VUSTX</th>\n",
       "      <th>VWAHX</th>\n",
       "      <th>VWEHX</th>\n",
       "      <th>VWINX</th>\n",
       "    </tr>\n",
       "    <tr>\n",
       "      <th>Date</th>\n",
       "      <th></th>\n",
       "      <th></th>\n",
       "      <th></th>\n",
       "      <th></th>\n",
       "      <th></th>\n",
       "      <th></th>\n",
       "      <th></th>\n",
       "      <th></th>\n",
       "      <th></th>\n",
       "    </tr>\n",
       "  </thead>\n",
       "  <tbody>\n",
       "    <tr>\n",
       "      <th>2000-02-29</th>\n",
       "      <td>0.000000</td>\n",
       "      <td>0.000000</td>\n",
       "      <td>0.333333</td>\n",
       "      <td>0.000000</td>\n",
       "      <td>0.333333</td>\n",
       "      <td>0.0</td>\n",
       "      <td>0.333333</td>\n",
       "      <td>0.000000</td>\n",
       "      <td>0.000000</td>\n",
       "    </tr>\n",
       "    <tr>\n",
       "      <th>2000-03-31</th>\n",
       "      <td>0.000000</td>\n",
       "      <td>0.000000</td>\n",
       "      <td>0.000000</td>\n",
       "      <td>0.000000</td>\n",
       "      <td>0.333333</td>\n",
       "      <td>0.0</td>\n",
       "      <td>0.333333</td>\n",
       "      <td>0.000000</td>\n",
       "      <td>0.333333</td>\n",
       "    </tr>\n",
       "    <tr>\n",
       "      <th>2000-04-28</th>\n",
       "      <td>0.333333</td>\n",
       "      <td>0.000000</td>\n",
       "      <td>0.000000</td>\n",
       "      <td>0.000000</td>\n",
       "      <td>0.333333</td>\n",
       "      <td>0.0</td>\n",
       "      <td>0.000000</td>\n",
       "      <td>0.333333</td>\n",
       "      <td>0.000000</td>\n",
       "    </tr>\n",
       "    <tr>\n",
       "      <th>2000-05-31</th>\n",
       "      <td>0.000000</td>\n",
       "      <td>0.000000</td>\n",
       "      <td>0.000000</td>\n",
       "      <td>0.333333</td>\n",
       "      <td>0.333333</td>\n",
       "      <td>0.0</td>\n",
       "      <td>0.000000</td>\n",
       "      <td>0.000000</td>\n",
       "      <td>0.333333</td>\n",
       "    </tr>\n",
       "    <tr>\n",
       "      <th>2000-06-30</th>\n",
       "      <td>0.000000</td>\n",
       "      <td>0.000000</td>\n",
       "      <td>0.333333</td>\n",
       "      <td>0.000000</td>\n",
       "      <td>0.333333</td>\n",
       "      <td>0.0</td>\n",
       "      <td>0.333333</td>\n",
       "      <td>0.000000</td>\n",
       "      <td>0.000000</td>\n",
       "    </tr>\n",
       "    <tr>\n",
       "      <th>2000-07-31</th>\n",
       "      <td>0.000000</td>\n",
       "      <td>0.000000</td>\n",
       "      <td>0.000000</td>\n",
       "      <td>0.000000</td>\n",
       "      <td>0.000000</td>\n",
       "      <td>0.0</td>\n",
       "      <td>0.333333</td>\n",
       "      <td>0.333333</td>\n",
       "      <td>0.333333</td>\n",
       "    </tr>\n",
       "    <tr>\n",
       "      <th>2000-08-31</th>\n",
       "      <td>0.000000</td>\n",
       "      <td>0.000000</td>\n",
       "      <td>0.333333</td>\n",
       "      <td>0.000000</td>\n",
       "      <td>0.333333</td>\n",
       "      <td>0.0</td>\n",
       "      <td>0.000000</td>\n",
       "      <td>0.000000</td>\n",
       "      <td>0.333333</td>\n",
       "    </tr>\n",
       "    <tr>\n",
       "      <th>2000-09-29</th>\n",
       "      <td>0.000000</td>\n",
       "      <td>0.000000</td>\n",
       "      <td>0.000000</td>\n",
       "      <td>0.333333</td>\n",
       "      <td>0.333333</td>\n",
       "      <td>0.0</td>\n",
       "      <td>0.000000</td>\n",
       "      <td>0.000000</td>\n",
       "      <td>0.333333</td>\n",
       "    </tr>\n",
       "    <tr>\n",
       "      <th>2000-10-31</th>\n",
       "      <td>0.000000</td>\n",
       "      <td>0.333333</td>\n",
       "      <td>0.000000</td>\n",
       "      <td>0.000000</td>\n",
       "      <td>0.333333</td>\n",
       "      <td>0.0</td>\n",
       "      <td>0.000000</td>\n",
       "      <td>0.000000</td>\n",
       "      <td>0.333333</td>\n",
       "    </tr>\n",
       "    <tr>\n",
       "      <th>2000-11-30</th>\n",
       "      <td>0.000000</td>\n",
       "      <td>0.333333</td>\n",
       "      <td>0.000000</td>\n",
       "      <td>0.333333</td>\n",
       "      <td>0.333333</td>\n",
       "      <td>0.0</td>\n",
       "      <td>0.000000</td>\n",
       "      <td>0.000000</td>\n",
       "      <td>0.000000</td>\n",
       "    </tr>\n",
       "  </tbody>\n",
       "</table>\n",
       "</div>"
      ],
      "text/plain": [
       "Symbols        FFXSX     FGOVX     VCVSX     VFIIX     VGHCX  VUSTX     VWAHX  \\\n",
       "Date                                                                            \n",
       "2000-02-29  0.000000  0.000000  0.333333  0.000000  0.333333    0.0  0.333333   \n",
       "2000-03-31  0.000000  0.000000  0.000000  0.000000  0.333333    0.0  0.333333   \n",
       "2000-04-28  0.333333  0.000000  0.000000  0.000000  0.333333    0.0  0.000000   \n",
       "2000-05-31  0.000000  0.000000  0.000000  0.333333  0.333333    0.0  0.000000   \n",
       "2000-06-30  0.000000  0.000000  0.333333  0.000000  0.333333    0.0  0.333333   \n",
       "2000-07-31  0.000000  0.000000  0.000000  0.000000  0.000000    0.0  0.333333   \n",
       "2000-08-31  0.000000  0.000000  0.333333  0.000000  0.333333    0.0  0.000000   \n",
       "2000-09-29  0.000000  0.000000  0.000000  0.333333  0.333333    0.0  0.000000   \n",
       "2000-10-31  0.000000  0.333333  0.000000  0.000000  0.333333    0.0  0.000000   \n",
       "2000-11-30  0.000000  0.333333  0.000000  0.333333  0.333333    0.0  0.000000   \n",
       "\n",
       "Symbols        VWEHX     VWINX  \n",
       "Date                            \n",
       "2000-02-29  0.000000  0.000000  \n",
       "2000-03-31  0.000000  0.333333  \n",
       "2000-04-28  0.333333  0.000000  \n",
       "2000-05-31  0.000000  0.333333  \n",
       "2000-06-30  0.000000  0.000000  \n",
       "2000-07-31  0.333333  0.333333  \n",
       "2000-08-31  0.000000  0.333333  \n",
       "2000-09-29  0.000000  0.333333  \n",
       "2000-10-31  0.000000  0.333333  \n",
       "2000-11-30  0.000000  0.000000  "
      ]
     },
     "execution_count": 22,
     "metadata": {
      "tags": []
     },
     "output_type": "execute_result"
    }
   ],
   "source": [
    "weights[cash_proxy] += 1 - weights[symbols].sum(axis=1)\n",
    "weights[:10]"
   ]
  },
  {
   "cell_type": "code",
   "execution_count": 23,
   "metadata": {
    "colab": {
     "base_uri": "https://localhost:8080/",
     "height": 212
    },
    "colab_type": "code",
    "id": "FElwzQXWlZJs",
    "outputId": "b152b01d-f8f5-4f77-b59a-5be2427b6469"
   },
   "outputs": [
    {
     "data": {
      "text/plain": [
       "Symbols\n",
       "FFXSX    0.000000\n",
       "FGOVX    0.000000\n",
       "VCVSX    0.333333\n",
       "VFIIX    0.000000\n",
       "VGHCX    0.333333\n",
       "VUSTX    0.000000\n",
       "VWAHX    0.333333\n",
       "VWEHX    0.000000\n",
       "VWINX    0.000000\n",
       "Name: 2000-02-29 00:00:00, dtype: float64"
      ]
     },
     "execution_count": 23,
     "metadata": {
      "tags": []
     },
     "output_type": "execute_result"
    }
   ],
   "source": [
    "date = rebalance_dates[0]\n",
    "weights.loc[date]"
   ]
  },
  {
   "cell_type": "code",
   "execution_count": 24,
   "metadata": {
    "colab": {
     "base_uri": "https://localhost:8080/",
     "height": 212
    },
    "colab_type": "code",
    "id": "cD1trI3LlZJw",
    "outputId": "9d98500c-d54b-461e-d1ef-b1884a5eca92"
   },
   "outputs": [
    {
     "data": {
      "text/plain": [
       "Symbols\n",
       "FFXSX     5.543029\n",
       "FGOVX     4.564147\n",
       "VCVSX     5.010142\n",
       "VFIIX     4.382757\n",
       "VGHCX    28.488045\n",
       "VUSTX     3.617873\n",
       "VWAHX     4.405204\n",
       "VWEHX     2.025008\n",
       "VWINX     6.901852\n",
       "Name: 2000-02-29 00:00:00, dtype: float64"
      ]
     },
     "execution_count": 24,
     "metadata": {
      "tags": []
     },
     "output_type": "execute_result"
    }
   ],
   "source": [
    "prices.loc[date]"
   ]
  },
  {
   "cell_type": "code",
   "execution_count": 25,
   "metadata": {
    "colab": {
     "base_uri": "https://localhost:8080/",
     "height": 212
    },
    "colab_type": "code",
    "id": "EnNqxKf3lZJ1",
    "outputId": "c2a78dd7-154b-46c1-afea-93ee336ef639"
   },
   "outputs": [
    {
     "data": {
      "text/plain": [
       "Symbols\n",
       "FFXSX      0\n",
       "FGOVX      0\n",
       "VCVSX    665\n",
       "VFIIX      0\n",
       "VGHCX    117\n",
       "VUSTX      0\n",
       "VWAHX    756\n",
       "VWEHX      0\n",
       "VWINX      0\n",
       "Name: 2000-02-29 00:00:00, dtype: int64"
      ]
     },
     "execution_count": 25,
     "metadata": {
      "tags": []
     },
     "output_type": "execute_result"
    }
   ],
   "source": [
    "(10000 * weights.loc[date] / prices.loc[date]).astype(int)"
   ]
  },
  {
   "cell_type": "code",
   "execution_count": 26,
   "metadata": {
    "colab": {
     "base_uri": "https://localhost:8080/",
     "height": 614
    },
    "colab_type": "code",
    "id": "2Yn3ZfsilZJ4",
    "outputId": "f0dfd4cc-7dc9-4d89-846f-d32f17a9ccab"
   },
   "outputs": [
    {
     "name": "stdout",
     "output_type": "stream",
     "text": [
      "FIRST BUY DATE = 2000-02-29 00:00:00\n",
      "\n"
     ]
    },
    {
     "data": {
      "text/plain": [
       "<matplotlib.axes._subplots.AxesSubplot at 0x7f187c6be470>"
      ]
     },
     "execution_count": 26,
     "metadata": {
      "tags": []
     },
     "output_type": "execute_result"
    },
    {
     "data": {
      "image/png": "[encoded data removed]",
      "text/plain": [
       "<matplotlib.figure.Figure at 0x7f187c673e80>"
      ]
     },
     "metadata": {
      "tags": []
     },
     "output_type": "display_data"
    }
   ],
   "source": [
    "# backtest\n",
    "\n",
    "p_value, p_holdings, p_weights = backtest(prices, weights, 10000., offset=0, commission=10.)\n",
    "\n",
    "p_value.plot(figsize=(15,10), grid=True)"
   ]
  },
  {
   "cell_type": "code",
   "execution_count": 28,
   "metadata": {
    "colab": {
     "base_uri": "https://localhost:8080/",
     "height": 227
    },
    "colab_type": "code",
    "id": "YreOp34glZJ9",
    "outputId": "bdb8a7ef-2a00-4da5-dfe8-caa2dbd38f53"
   },
   "outputs": [
    {
     "data": {
      "text/html": [
       "<div>\n",
       "<style scoped>\n",
       "    .dataframe tbody tr th:only-of-type {\n",
       "        vertical-align: middle;\n",
       "    }\n",
       "\n",
       "    .dataframe tbody tr th {\n",
       "        vertical-align: top;\n",
       "    }\n",
       "\n",
       "    .dataframe thead th {\n",
       "        text-align: right;\n",
       "    }\n",
       "</style>\n",
       "<table border=\"1\" class=\"dataframe\">\n",
       "  <thead>\n",
       "    <tr style=\"text-align: right;\">\n",
       "      <th>Symbols</th>\n",
       "      <th>FFXSX</th>\n",
       "      <th>FGOVX</th>\n",
       "      <th>VCVSX</th>\n",
       "      <th>VFIIX</th>\n",
       "      <th>VGHCX</th>\n",
       "      <th>VUSTX</th>\n",
       "      <th>VWAHX</th>\n",
       "      <th>VWEHX</th>\n",
       "      <th>VWINX</th>\n",
       "    </tr>\n",
       "    <tr>\n",
       "      <th>Date</th>\n",
       "      <th></th>\n",
       "      <th></th>\n",
       "      <th></th>\n",
       "      <th></th>\n",
       "      <th></th>\n",
       "      <th></th>\n",
       "      <th></th>\n",
       "      <th></th>\n",
       "      <th></th>\n",
       "    </tr>\n",
       "  </thead>\n",
       "  <tbody>\n",
       "    <tr>\n",
       "      <th>2000-02-29</th>\n",
       "      <td>0.000000</td>\n",
       "      <td>0.0</td>\n",
       "      <td>0.333333</td>\n",
       "      <td>0.000000</td>\n",
       "      <td>0.333333</td>\n",
       "      <td>0.0</td>\n",
       "      <td>0.333333</td>\n",
       "      <td>0.000000</td>\n",
       "      <td>0.000000</td>\n",
       "    </tr>\n",
       "    <tr>\n",
       "      <th>2000-03-31</th>\n",
       "      <td>0.000000</td>\n",
       "      <td>0.0</td>\n",
       "      <td>0.000000</td>\n",
       "      <td>0.000000</td>\n",
       "      <td>0.333333</td>\n",
       "      <td>0.0</td>\n",
       "      <td>0.333333</td>\n",
       "      <td>0.000000</td>\n",
       "      <td>0.333333</td>\n",
       "    </tr>\n",
       "    <tr>\n",
       "      <th>2000-04-28</th>\n",
       "      <td>0.333333</td>\n",
       "      <td>0.0</td>\n",
       "      <td>0.000000</td>\n",
       "      <td>0.000000</td>\n",
       "      <td>0.333333</td>\n",
       "      <td>0.0</td>\n",
       "      <td>0.000000</td>\n",
       "      <td>0.333333</td>\n",
       "      <td>0.000000</td>\n",
       "    </tr>\n",
       "    <tr>\n",
       "      <th>2000-05-31</th>\n",
       "      <td>0.000000</td>\n",
       "      <td>0.0</td>\n",
       "      <td>0.000000</td>\n",
       "      <td>0.333333</td>\n",
       "      <td>0.333333</td>\n",
       "      <td>0.0</td>\n",
       "      <td>0.000000</td>\n",
       "      <td>0.000000</td>\n",
       "      <td>0.333333</td>\n",
       "    </tr>\n",
       "    <tr>\n",
       "      <th>2000-06-30</th>\n",
       "      <td>0.000000</td>\n",
       "      <td>0.0</td>\n",
       "      <td>0.333333</td>\n",
       "      <td>0.000000</td>\n",
       "      <td>0.333333</td>\n",
       "      <td>0.0</td>\n",
       "      <td>0.333333</td>\n",
       "      <td>0.000000</td>\n",
       "      <td>0.000000</td>\n",
       "    </tr>\n",
       "  </tbody>\n",
       "</table>\n",
       "</div>"
      ],
      "text/plain": [
       "Symbols        FFXSX  FGOVX     VCVSX     VFIIX     VGHCX  VUSTX     VWAHX  \\\n",
       "Date                                                                         \n",
       "2000-02-29  0.000000    0.0  0.333333  0.000000  0.333333    0.0  0.333333   \n",
       "2000-03-31  0.000000    0.0  0.000000  0.000000  0.333333    0.0  0.333333   \n",
       "2000-04-28  0.333333    0.0  0.000000  0.000000  0.333333    0.0  0.000000   \n",
       "2000-05-31  0.000000    0.0  0.000000  0.333333  0.333333    0.0  0.000000   \n",
       "2000-06-30  0.000000    0.0  0.333333  0.000000  0.333333    0.0  0.333333   \n",
       "\n",
       "Symbols        VWEHX     VWINX  \n",
       "Date                            \n",
       "2000-02-29  0.000000  0.000000  \n",
       "2000-03-31  0.000000  0.333333  \n",
       "2000-04-28  0.333333  0.000000  \n",
       "2000-05-31  0.000000  0.333333  \n",
       "2000-06-30  0.000000  0.000000  "
      ]
     },
     "execution_count": 28,
     "metadata": {
      "tags": []
     },
     "output_type": "execute_result"
    }
   ],
   "source": [
    "p_weights.loc[rebalance_dates][:5]"
   ]
  },
  {
   "cell_type": "code",
   "execution_count": 27,
   "metadata": {
    "colab": {
     "base_uri": "https://localhost:8080/",
     "height": 16
    },
    "colab_type": "code",
    "id": "t_GBTfC0KtFg",
    "outputId": "f3a59420-7579-4f61-d9dc-d37bd8956da6"
   },
   "outputs": [],
   "source": []
  }
 ],
 "metadata": {
  "colab": {
   "collapsed_sections": [],
   "name": "BACKTEST-STEP-BY-STEP.ipynb",
   "provenance": [],
   "toc_visible": true,
   "version": "0.3.2"
  },
  "kernelspec": {
   "display_name": "Python 3",
   "language": "python",
   "name": "python3"
  },
  "language_info": {
   "codemirror_mode": {
    "name": "ipython",
    "version": 3
   },
   "file_extension": ".py",
   "mimetype": "text/x-python",
   "name": "python",
   "nbconvert_exporter": "python",
   "pygments_lexer": "ipython3",
   "version": "3.6.5"
  }
 },
 "nbformat": 4,
 "nbformat_minor": 1
}
