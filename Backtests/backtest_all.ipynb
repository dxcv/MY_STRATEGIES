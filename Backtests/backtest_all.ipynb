{
 "cells": [
  {
   "cell_type": "code",
   "execution_count": 2,
   "metadata": {
    "collapsed": true
   },
   "outputs": [
    {
     "name": "stdout",
     "output_type": "stream",
     "text": [
      "PMA001\nVUSTX\nVCVSX"
     ]
    },
    {
     "name": "stdout",
     "output_type": "stream",
     "text": [
      "\nVFIIX"
     ]
    },
    {
     "name": "stdout",
     "output_type": "stream",
     "text": [
      "\nFIRST BUY DATE = 1986-08-29 00:00:00\n"
     ]
    },
    {
     "name": "stdout",
     "output_type": "stream",
     "text": [
      "\nStrategy : DM0002"
     ]
    },
    {
     "name": "stdout",
     "output_type": "stream",
     "text": [
      "\nFFXSX\nVCVSX"
     ]
    },
    {
     "name": "stdout",
     "output_type": "stream",
     "text": [
      "\nVWEHX"
     ]
    },
    {
     "name": "stdout",
     "output_type": "stream",
     "text": [
      "\nVGHCX"
     ]
    },
    {
     "name": "stdout",
     "output_type": "stream",
     "text": [
      "\nVFIIX"
     ]
    },
    {
     "name": "stdout",
     "output_type": "stream",
     "text": [
      "\nFRESX"
     ]
    },
    {
     "name": "stdout",
     "output_type": "stream",
     "text": [
      "\nVUSTX"
     ]
    },
    {
     "name": "stdout",
     "output_type": "stream",
     "text": [
      "\nFIRST BUY DATE = 1986-12-31 00:00:00\n"
     ]
    }
   ],
   "source": [
    "import os\n",
    "os.chdir('C:\\\\users\\\\scuba\\\\pycharmprojects\\\\simplebacktester')\n",
    "os.getcwd()\n",
    "\n",
    "import pandas as pd\n",
    "import ffn\n",
    "\n",
    "%matplotlib inline\n",
    "\n",
    "from backtest_helpers.compute_weights_RS_DM import compute_weights_RS_DM\n",
    "from backtest_helpers.compute_weights_PMA import compute_weights_PMA\n",
    "from backtest_helpers.monthly_return_table import monthly_return_table\n",
    "from backtest_helpers.endpoints import endpoints\n",
    "from backtest_helpers.backtest import backtest\n",
    "\n",
    "strategies = {\n",
    "    'RS0001': { 'symbols': ['VCVSX','VWEHX','VFIIX','FGOVX','VWAHX'], 'prices': 'yahoo',  \n",
    "               'rs_lookback': 1, 'risk_lookback': 1, 'n_top': 2, 'frequency': 'm',\n",
    "              'cash_proxy': 'CASHX', 'risk_free': 0},\n",
    "    'RS0002': {'symbols': ['MMHYX','FAGIX','VFIIX'],  'prices': 'yahoo', \n",
    "               'rs_lookback': 3, 'risk_lookback': 2, 'n_top': 1, 'frequency': 'm',\n",
    "              'cash_proxy': 'CASHX', 'risk_free': 0},\n",
    "    'RS0003': {'symbols': ['MMHYX','FAGIX','VFIIX'], 'prices': 'yahoo', \n",
    "               'rs_lookback': 1, 'risk_lookback': 1, 'n_top': 1, 'frequency': 'q',\n",
    "              'cash_proxy': 'CASHX', 'risk_free': 0},    \n",
    "    'DM0001': {'symbols': ['VCVSX','VWINX','VWEHX','VGHCX','VUSTX','VFIIX','VWAHX','FGOVX','FFXSX'],\n",
    "                'prices': 'yahoo', \n",
    "               'rs_lookback': 1, 'risk_lookback': 1, 'n_top': 3, 'frequency': 'm',\n",
    "              'cash_proxy': 'CASHX', 'risk_free': 'FFXSX'},\n",
    "    'DM0002': {'symbols': ['VCVSX','VUSTX','VWEHX','VFIIX','VGHCX','FRESX'], 'prices': 'yahoo', \n",
    "               'rs_lookback': 1, 'risk_lookback': 1, 'n_top': 5, 'frequency': 'm',\n",
    "              'cash_proxy': 'VFIIX', 'risk_free': 'FFXSX'},\n",
    "    'PMA001': {'symbols': ['VCVSX', 'VFIIX'],  'prices': 'yahoo', \n",
    "               'risk_lookback': 3, 'frequency': 'm', 'allocations': [0.6, 0.4],\n",
    "              'cash_proxy': 'VUSTX'},\n",
    "    'PMA002': {'symbols': ['VCVSX', 'VWINX', 'VWEHX'], 'prices': 'yahoo', \n",
    "               'risk_lookback': 3, 'frequency': 'm', 'allocations': [0.6, 0.2, 0.2],\n",
    "              'cash_proxy': 'VUSTX'},\n",
    "    'PMA003': {'symbols': ['VCVSX', 'FAGIX', 'VGHCX'], 'prices': 'yahoo',  \n",
    "               'risk_lookback': 2, 'frequency': 'm', 'allocations': [1./3., 1./3., 1./3.],\n",
    "              'cash_proxy': 'VUSTX'},    \n",
    "}\n",
    "\n",
    "strategy_values = pd.DataFrame(columns=strategies.keys())\n",
    "security_weights = {}\n",
    "security_holdings = {}\n",
    "prices = {}\n",
    "\n",
    "\n",
    "for name in strategies :\n",
    "    if 'PMA' in name :\n",
    "        s_value, s_holdings, s_weights, s_prices =  compute_weights_PMA (name, strategies[name])\n",
    "    else :\n",
    "        s_value, s_holdings, s_weights, s_prices =  compute_weights_RS_DM (name, strategies[name])\n",
    "    \n",
    "    strategy_values[name] = s_value\n",
    "    security_weights[name] = s_weights\n",
    "    security_holdings[name] = s_holdings\n",
    "    prices[name] = s_prices"
   ]
  },
  {
   "cell_type": "code",
   "execution_count": null,
   "metadata": {},
   "outputs": [],
   "source": [
    ""
   ]
  }
 ],
 "metadata": {
  "kernelspec": {
   "display_name": "Python 2",
   "language": "python",
   "name": "python2"
  },
  "language_info": {
   "codemirror_mode": {
    "name": "ipython",
    "version": 2.0
   },
   "file_extension": ".py",
   "mimetype": "text/x-python",
   "name": "python",
   "nbconvert_exporter": "python",
   "pygments_lexer": "ipython2",
   "version": "2.7.6"
  }
 },
 "nbformat": 4,
 "nbformat_minor": 0
}