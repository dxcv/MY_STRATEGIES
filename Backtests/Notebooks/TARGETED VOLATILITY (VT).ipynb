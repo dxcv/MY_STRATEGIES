{
 "cells": [
  {
   "cell_type": "markdown",
   "metadata": {},
   "source": [
    "# TARGETED VOLATILITY"
   ]
  },
  {
   "cell_type": "code",
   "execution_count": 32,
   "metadata": {
    "collapsed": false
   },
   "outputs": [],
   "source": [
    "import pandas as pd\n",
    "import itable\n",
    "import ffn\n",
    "import talib\n",
    "import numpy as np\n",
    "from cvxopt import matrix, solvers, spdiag\n",
    "\n",
    "%matplotlib inline\n",
    "\n",
    "def side_by_side(*objs, **kwds):\n",
    "    from pandas.formats.printing import adjoin\n",
    "    space = kwds.get('space', 4)\n",
    "    reprs = [repr(obj).split('\\n') for obj in objs]\n",
    "    print (adjoin(space, *reprs))\n",
    "    \n",
    "# dummy logger\n",
    "class Log() :\n",
    "    pass\n",
    "    def info (self, s) :\n",
    "        print ('INFO : {}'.format( s))\n",
    "        pass\n",
    "    def debug (self, s) :\n",
    "        print ('DEBUG : {}'.format( s))\n",
    "        pass\n",
    "    def warn (self, s) :\n",
    "        print ('WARNING : {}'.format( s))\n",
    "        pass\n",
    "        \n",
    "log = Log()"
   ]
  },
  {
   "cell_type": "code",
   "execution_count": 28,
   "metadata": {
    "code_folding": [],
    "collapsed": false
   },
   "outputs": [],
   "source": [
    "# Portfolio Helper Functions\n",
    "\n",
    "    # Functions:\n",
    "    #    1. compute_efficient_portfolio        compute minimum variance portfolio\n",
    "    #                                            subject to target return\n",
    "    #    2. compute_global_min_portfolio       compute global minimum variance portfolio\n",
    "    #    3. compute_tangency_portfolio         compute tangency portfolio\n",
    "    #    4. compute_efficient_frontier         compute Markowitz bullet\n",
    "    #    5. compute_portfolio_mu               compute portfolio expected return\n",
    "    #    6. compute_portfolio_sigma            compute portfolio standard deviation\n",
    "    #    7. compute_covariance_matrix          compute covariance matrix\n",
    "    #    8. compute_expected_returns           compute expected returns vector\n",
    "    \n",
    "#~~~~~~~~~~~~~~~~~~~~~~~~~~~~~~~~~~~~~~~~~~~~~~~~~~~~~~~~~~~~~~~~~~~~~~~~~~~~~~~~~~~~~~~~~~~~~~~~~~~~~~~\n",
    "def compute_covariance_matrix (prices):\n",
    "    # calculates the cov matrix for the period defined by prices\n",
    "    returns = np.log(1 + prices.pct_change())[1:]\n",
    "    excess_returns_matrix = returns - returns.mean()\n",
    "    return 1. / len(returns) * (excess_returns_matrix.T).dot(excess_returns_matrix)\n",
    "#~~~~~~~~~~~~~~~~~~~~~~~~~~~~~~~~~~~~~~~~~~~~~~~~~~~~~~~~~~~~~~~~~~~~~~~~~~~~~~~~~~~~~~~~~~~~~~~~~~~~~~~\n",
    "def compute_expected_returns (prices):\n",
    "    mu_vec =  np.log(1+prices.pct_change(1))[1:].mean()\n",
    "    return mu_vec\n",
    "#~~~~~~~~~~~~~~~~~~~~~~~~~~~~~~~~~~~~~~~~~~~~~~~~~~~~~~~~~~~~~~~~~~~~~~~~~~~~~~~~~~~~~~~~~~~~~~~~~~~~~~~\n",
    "def compute_portfolio_mu (mu_vec, weights_vec):\n",
    "    if len(mu_vec) != len(weights_vec) :\n",
    "        raise RuntimeError ('mu_vec and weights_vec must have same length')\n",
    "    return mu_vec.T.dot(weights_vec)\n",
    "#~~~~~~~~~~~~~~~~~~~~~~~~~~~~~~~~~~~~~~~~~~~~~~~~~~~~~~~~~~~~~~~~~~~~~~~~~~~~~~~~~~~~~~~~~~~~~~~~~~~~~~~\n",
    "def compute_portfolio_sigma (sigma_mat, weights_vec) :\n",
    "\n",
    "    if len(sigma_mat) != len(sigma_mat.columns) :\n",
    "        raise RuntimeError ('sigma_mat must be square\\nlen(sigma_mat) = {}\\nlen(sigma_mat.columns) ={}'.\n",
    "                            format(len(sigma_mat), len(sigma_mat.columns)))\n",
    "    return np.sqrt(weights_vec.T.dot(sigma_mat).dot(weights_vec))\n",
    "#~~~~~~~~~~~~~~~~~~~~~~~~~~~~~~~~~~~~~~~~~~~~~~~~~~~~~~~~~~~~~~~~~~~~~~~~~~~~~~~~~~~~~~~~~~~~~~~~~~~~~~~\n",
    "def compute_efficient_portfolio (mu_vec, sigma_mat, target_return, shorts=True) :\n",
    "\n",
    "    # compute minimum variance portfolio subject to target return\n",
    "    #\n",
    "    # inputs:\n",
    "    # mu_vec                  N x 1 DataFrame expected returns\n",
    "    #                         with index = asset names\n",
    "    # sigma_mat               N x N DataFrame covariance matrix of returns\n",
    "    #                         with index = columns = asset names\n",
    "    # target_return           scalar, target expected return\n",
    "    # shorts                  logical, allow shorts is TRUE\n",
    "    #\n",
    "    # output is portfolio object with the following elements\n",
    "    #\n",
    "    # mu_p                   portfolio expected return\n",
    "    # sig_p                  portfolio standard deviation\n",
    "    # weights                N x 1 DataFrame vector of portfolio weights\n",
    "    #                        with index = asset names\n",
    "\n",
    "    # check for valid inputs\n",
    "    #\n",
    "\n",
    "    if len(mu_vec) != len(sigma_mat) :\n",
    "        print (\"dimensions of mu_vec and sigma_mat do not match\")\n",
    "        raise\n",
    "    if np.matrix([sigma_mat.ix[i][i] for i in range(len(sigma_mat))]).any() <= 0 :\n",
    "        print ('Covariance matrix not positive definite')\n",
    "        raise\n",
    "\n",
    "    #\n",
    "    # compute efficient portfolio\n",
    "    #\n",
    "\n",
    "    solvers.options['show_progress'] = False\n",
    "    P = 2 * matrix(sigma_mat.values)\n",
    "    q = matrix(0., (len(sigma_mat), 1))\n",
    "    G = spdiag([-1. for i in range(len(sigma_mat))])\n",
    "    A = matrix(1., (1, len(sigma_mat)))\n",
    "    A = matrix([A, matrix(mu_vec.T.values).T], (2,len(sigma_mat)))\n",
    "    b = matrix([1.0, target_return], (2,1))\n",
    "\n",
    "    if shorts == True :          \n",
    "        h = matrix (1., (len(sigma_mat), 1))\n",
    "\n",
    "    else :\n",
    "        h = matrix (0., (len(sigma_mat), 1))\n",
    "\n",
    "    # weights_vec = pd.DataFrame(np.array(solvers.qp(P, q, G, h, A, b)['x']),\\\n",
    "    #                                     sigma_mat.columns)\n",
    "    weights_vec = pd.Series(list(solvers.qp(P, q, G, h, A, b)['x']), index=sigma_mat.columns)\n",
    "\n",
    "    #\n",
    "    # compute portfolio expected returns and variance\n",
    "    #\n",
    "    # print ('*** Debug ***\\n_compute_efficient_portfolio:\\nmu_vec:\\n', self.mu_vec, '\\nsigma_mat:\\n',\n",
    "    #        self.sigma_mat, '\\nweights:\\n', self.weights_vec )   \n",
    "    weights_vec.index = mu_vec.index\n",
    "    mu_p = compute_portfolio_mu(mu_vec, weights_vec)\n",
    "    sigma_p = compute_portfolio_sigma (sigma_mat, weights_vec)\n",
    "\n",
    "    return weights_vec, mu_p, sigma_p    \n",
    "#~~~~~~~~~~~~~~~~~~~~~~~~~~~~~~~~~~~~~~~~~~~~~~~~~~~~~~~~~~~~~~~~~~~~~~~~~~~~~~~~~~~~~~~~~~~~~~~~~~~~~~~\n",
    "def compute_global_min_portfolio (mu_vec, sigma_mat, shorts=True) :\n",
    "\n",
    "    solvers.options['show_progress'] = False\n",
    "    P = 2 * matrix(sigma_mat.values)\n",
    "    q = matrix(0., (len(sigma_mat), 1))\n",
    "    G = spdiag([-1. for i in range(len(sigma_mat))])\n",
    "    A = matrix(1., (1, len(sigma_mat)))\n",
    "    b = matrix(1.0)\n",
    "\n",
    "    if shorts == True :\n",
    "        h = matrix (1., (len(sigma_mat), 1))\n",
    "    else :\n",
    "        h = matrix (0., (len(sigma_mat), 1))\n",
    "\n",
    "    #print ('\\nP\\n\\n{}\\n\\nq\\n\\n{}\\n\\nG\\n\\n{}\\n\\nh\\n\\n{}\\n\\nA\\n\\n{}\\n\\nb\\n\\n{}\\n\\n'.format(P,q,G,h,A,b))\n",
    "    # weights_vec = pd.DataFrame(np.array(solvers.qp(P, q, G, h, A, b)['x']),\\\n",
    "    #                                     index=sigma_mat.columns)\n",
    "    weights_vec = pd.Series(list(solvers.qp(P, q, G, h, A, b)['x']), index=sigma_mat.columns)\n",
    "\n",
    "    #\n",
    "    # compute portfolio expected returns and variance\n",
    "    #\n",
    "    # print ('*** Debug ***\\n_Global Min Portfolio:\\nmu_vec:\\n', mu_vec, '\\nsigma_mat:\\n', \n",
    "    #        sigma_mat, '\\nweights:\\n', weights_vec)\n",
    "\n",
    "    mu_p = compute_portfolio_mu(mu_vec, weights_vec)\n",
    "    sigma_p = compute_portfolio_sigma (sigma_mat, weights_vec)\n",
    "\n",
    "    return weights_vec, mu_p, sigma_p\n",
    "\n",
    "#~~~~~~~~~~~~~~~~~~~~~~~~~~~~~~~~~~~~~~~~~~~~~~~~~~~~~~~~~~~~~~~~~~~~~~~~~~~~~~~~~~~~~~~~~~~~~~~~~~~~~~~\n",
    "def compute_efficient_frontier(mu_vec, sigma_mat, risk_free=0, points=100, shorts=True):\n",
    "\n",
    "    efficient_frontier = pd.DataFrame(index=range(points), dtype=object, columns=['mu_p', 'sig_p', 'sr_p', 'wts_p'])\n",
    "\n",
    "    gmin_wts, gmin_mu, gmin_sigma = compute_global_min_portfolio(mu_vec, sigma_mat, shorts=shorts)\n",
    "\n",
    "    xmax = mu_vec.max()\n",
    "    if shorts == True:\n",
    "        xmax = 2 * mu_vec.max()\n",
    "    for i, mu in enumerate(np.linspace(gmin_mu, xmax, points)):\n",
    "        w_vec, portfolio_mu, portfolio_sigma = compute_efficient_portfolio(mu_vec, sigma_mat, mu, shorts=shorts)\n",
    "        efficient_frontier.ix[i]['mu_p'] = w_vec.dot(mu_vec)\n",
    "        efficient_frontier.ix[i]['sig_p'] = np.sqrt(w_vec.T.dot(sigma_mat.dot(w_vec)))\n",
    "        efficient_frontier.ix[i]['sr_p'] = (efficient_frontier.ix[i]['mu_p'] - risk_free)  / efficient_frontier.ix[i]['sig_p']\n",
    "        efficient_frontier.ix[i]['wts_p'] = w_vec\n",
    "\n",
    "    return efficient_frontier\n",
    "#~~~~~~~~~~~~~~~~~~~~~~~~~~~~~~~~~~~~~~~~~~~~~~~~~~~~~~~~~~~~~~~~~~~~~~~~~~~~~~~~~~~~~~~~~~~~~~~~~~~~~~~\n",
    "def compute_tangency_portfolio(mu_vec, sigma_mat, risk_free=0, shorts=True):\n",
    "\n",
    "    efficient_frontier = self._compute_efficient_frontier(mu_vec, sigma_mat, risk_free, shorts=shorts)\n",
    "    index = efficient_frontier.index[efficient_frontier['sr_p']==efficient_frontier['sr_p'].max()]\n",
    "\n",
    "    wts = efficient_frontier['wts_p'][index].values[0]\n",
    "    mu_p = efficient_frontier['mu_p'][index].values[0]\n",
    "    sigma_p = efficient_frontier['sig_p'][index].values[0]\n",
    "    sharpe_p = efficient_frontier['sr_p'][index].values[0]\n",
    "\n",
    "    return wts, mu_p, sigma_p, sharpe_p\n",
    "#~~~~~~~~~~~~~~~~~~~~~~~~~~~~~~~~~~~~~~~~~~~~~~~~~~~~~~~~~~~~~~~~~~~~~~~~~~~~~~~~~~~~~~~~~~~~~~~~~~~~~~~\n",
    "def compute_target_risk_portfolio(mu_vec, sigma_mat, target_risk, risk_free=0, shorts=True):\n",
    "\n",
    "    efficient_frontier = compute_efficient_frontier(mu_vec, sigma_mat, risk_free, shorts=shorts)\n",
    "    if efficient_frontier['sig_p'].max() <= target_risk :\n",
    "        log.warn ('TARGET_RISK {} > EFFICIENT FRONTIER MAXIMUM {}; SETTING IT TO MAXIMUM'.\n",
    "                 format(target_risk, efficient_frontier['sig_p'].max()))\n",
    "        index = len(efficient_frontier) - 1\n",
    "    elif efficient_frontier['sig_p'].min() >= target_risk :\n",
    "        log.warn ('TARGET RISK {} < GLOBAL MINIMUM {}; SETTING IT TO GLOBAL MINIMUM'.\n",
    "                 format(target_risk, efficient_frontier['sig_p'].max()))\n",
    "        index = 1\n",
    "    else :\n",
    "        index = efficient_frontier.index[efficient_frontier['sig_p'] >= target_risk][0]\n",
    "\n",
    "    wts = efficient_frontier['wts_p'][index]\n",
    "    mu_p = efficient_frontier['mu_p'][index]\n",
    "    sigma_p = efficient_frontier['sig_p'][index]\n",
    "    sharpe_p = efficient_frontier['sr_p'][index]\n",
    "\n",
    "    return wts, mu_p, sigma_p, sharpe_p"
   ]
  },
  {
   "cell_type": "code",
   "execution_count": 3,
   "metadata": {
    "collapsed": false
   },
   "outputs": [],
   "source": [
    "def monthly_return_table (daily_prices) :\n",
    "    #monthly_returns = daily_prices.resample('M').last().pct_change()\n",
    "    monthly_returns = daily_prices.resample('M', how='last').pct_change()\n",
    "    df = pd.DataFrame(monthly_returns.values, columns=['Data'])\n",
    "    df['Month'] = monthly_returns.index.month\n",
    "    df['Year']= monthly_returns.index.year\n",
    "    table = df.pivot_table(index='Year', columns='Month').fillna(0).round(4) * 100\n",
    "    #annual_returns = daily_prices.resample('12M').last().pct_change()[1:].values.round(4) * 100\n",
    "    annual_returns = daily_prices.resample('12M', how='last').pct_change()[1:].values.round(4) * 100\n",
    "    if len(table) > len(annual_returns) :\n",
    "        table = table[1:]\n",
    "    table['Annual Returns'] = annual_returns\n",
    "    return table"
   ]
  },
  {
   "cell_type": "code",
   "execution_count": 4,
   "metadata": {
    "code_folding": [],
    "collapsed": false
   },
   "outputs": [],
   "source": [
    "def endpoints(start=None, end=None, period='m', trading_days=None) :\n",
    "    \n",
    "    if trading_days is not None:\n",
    "        dates = trading_days\n",
    "# the following 2 lines cause python 3.4.2 to crash, so removed them\n",
    "#    elif start is not None and end is not None:\n",
    "#        dates = tradingcalendar.get_trading_days(start, end)\n",
    "    else:\n",
    "        print ('\\n** ERROR : must either provide pandas series (or df) of trading days \\n')\n",
    "        print ('           or a start and end date\\n')\n",
    "    \n",
    "    if isinstance(period, int) :\n",
    "        dates = [dates[i] for i in range(0, len(dates), period)]\n",
    "    else :    \n",
    "        if period == 'm' : months = 1\n",
    "        elif period == 'q' : months = 3\n",
    "        elif period == 'b' : months = 6\n",
    "        elif period == 'y' : months = 12           \n",
    "            \n",
    "        e_dates = [dates[i - 1] for i in range(1,len(dates))\\\n",
    "                          if dates[i].month > dates[i-1].month\\\n",
    "                          or dates[i].year > dates[i-1].year ]+ list([dates[-1]])\n",
    "        dates = [e_dates[i] for i in range(0,len(e_dates),months)]\n",
    "    \n",
    "    return dates"
   ]
  },
  {
   "cell_type": "code",
   "execution_count": 5,
   "metadata": {
    "code_folding": [],
    "collapsed": false
   },
   "outputs": [],
   "source": [
    "# THIS ONE MATCHES PV\n",
    "# SEE PV backtest :https://goo.gl/lBR4K9\n",
    "# AND spreadsheet : https://goo.gl/8KGp58\n",
    "# and Quantopian backtest : https://goo.gl/xytT5L\n",
    "\n",
    "def backtest(prices, weights, capital, offset=1, commission=0.) :\n",
    "    rebalance_dates = weights.index\n",
    "    buy_dates = [prices.index[d + offset] for d in range(len(prices.index)-1) if prices.index[d] in rebalance_dates ]\n",
    "    print ('FIRST BUY DATE = {}\\n'.format(buy_dates[0]))\n",
    "    p_holdings = pd.DataFrame(0, index=prices.index, columns=prices.columns)\n",
    "    cash = 0.\n",
    "    for i, date in enumerate(prices.index):\n",
    "        if date in rebalance_dates :\n",
    "#             print ('--------------------------------------------------------------------') \n",
    "            new_weights = weights.loc[date]\n",
    "            p_holdings.iloc [i] = p_holdings.iloc [i - 1]\n",
    "        if date in buy_dates :           \n",
    "            if date == buy_dates[0] :\n",
    "                p_holdings.loc[date] = (capital * weights.iloc[0] / prices.loc[date])\n",
    "#                 print ('INIT', cash, p_holdings.iloc[i-1],prices.loc[date], new_weights)\n",
    "            else :\n",
    "                portfolio_value = cash + (p_holdings.iloc[i - 1] * prices.loc[date]).sum() * new_weights\n",
    "                p_holdings.iloc[i] = (portfolio_value / prices.loc[date]).fillna(0)\n",
    "#                 print ('{} BUY \\n{}\\n{}\\n{}\\n{}\\n{}\\nHOLDINGS\\n{}\\n'.format(date,cash,portfolio_value,p_holdings.iloc[i-1],\n",
    "#                                                                     prices.loc[date],new_weights,p_holdings.iloc[i]))\n",
    "                cash = (portfolio_value - p_holdings.iloc[i] * prices.loc[date]).sum()\n",
    "#                 print ('{}\\nPORTFOLIO VALUE\\n{}\\nCASH = {}'.format(date, portfolio_value,cash))\n",
    "        else :\n",
    "            p_holdings.iloc [i] = p_holdings.iloc [i - 1]\n",
    "            #print ('{} HOLDINGS UNCHANGED'.format(date))\n",
    "\n",
    "    p_value = (p_holdings * prices).sum(1)[p_holdings.index>=buy_dates[0]]\n",
    "#     print(p_holdings, )\n",
    "    p_weights = p_holdings.mul(prices).div(p_holdings.mul(prices).sum(axis=1), axis=0).fillna(0)\n",
    "    \n",
    "    return p_value, p_holdings, p_weights"
   ]
  },
  {
   "cell_type": "markdown",
   "metadata": {},
   "source": [
    "# VTARGET1"
   ]
  },
  {
   "cell_type": "code",
   "execution_count": 6,
   "metadata": {
    "collapsed": false
   },
   "outputs": [
    {
     "name": "stdout",
     "output_type": "stream",
     "text": [
      "INCEPTION DATES:\n",
      "\n",
      "        inception\n",
      "VGHCX  1984-05-23\n",
      "fdfax  1985-07-29\n",
      "VFIIX  1980-06-27\n",
      "FIRST BUY DATE = 1985-09-30 00:00:00\n",
      "\n"
     ]
    },
    {
     "data": {
      "text/plain": [
       "<matplotlib.axes._subplots.AxesSubplot at 0xb33f0b8>"
      ]
     },
     "execution_count": 6,
     "metadata": {},
     "output_type": "execute_result"
    },
    {
     "data": {
      "image/png": "[encoded data removed]",
      "text/plain": [
       "<matplotlib.figure.Figure at 0xb34eda0>"
      ]
     },
     "metadata": {},
     "output_type": "display_data"
    }
   ],
   "source": [
    "symbols =['VGHCX', 'FDFAX']\n",
    "cash_proxy = 'VFIIX'\n",
    "\n",
    "tickers = list(set(symbols + [cash_proxy]))\n",
    "\n",
    "start='1985-01-01'\n",
    "end='2016-11-10'\n",
    "\n",
    "data = pd.DataFrame (columns=symbols)\n",
    "for symbol in tickers :\n",
    "    url = 'http://chart.finance.yahoo.com/table.csv?s=' + symbol + '&ignore=.csv'\n",
    "    data[symbol] = pd.read_csv(url, parse_dates=True, index_col='Date').sort_index(ascending=True)['Adj Close']\n",
    "    \n",
    "inception_dates = pd.DataFrame([data[ticker].first_valid_index().date() for ticker in data.columns], \n",
    "                               index=data.keys(), columns=['inception'])\n",
    "                               \n",
    "print ('INCEPTION DATES:\\n\\n{}'.format(inception_dates))\n",
    "\n",
    "prices = data.copy().dropna()\n",
    "\n",
    "end_points = endpoints(period='m', trading_days=prices.index)\n",
    "prices_m = prices.loc[end_points]\n",
    "\n",
    "risk_lookback = 3\n",
    "allocations = [0.6, 0.4]\n",
    "\n",
    "# elligibility rule\n",
    "# SMA = prices_m.rolling(risk_lookback).mean().dropna()\n",
    "SMA = pd.rolling_mean(prices_m, risk_lookback).dropna()\n",
    "rebalance_dates = SMA.index\n",
    "rule = prices_m.loc[rebalance_dates][symbols] > SMA[symbols]\n",
    "\n",
    "# fixed weight allocation\n",
    "weights = allocations * rule\n",
    "\n",
    "# downside protection\n",
    "weights[cash_proxy] = 1 - weights[symbols].sum(axis=1)\n",
    "\n",
    "# backtest\n",
    "p_value, p_holdings, p_weights = backtest(prices, weights, 10000., offset=0, commission=10.)\n",
    "\n",
    "p_value.plot(figsize=(15,10), grid=True)"
   ]
  },
  {
   "cell_type": "code",
   "execution_count": 11,
   "metadata": {
    "collapsed": false
   },
   "outputs": [
    {
     "data": {
      "text/plain": [
       "VGHCX    0.012062\n",
       "fdfax    0.010004\n",
       "VFIIX    0.005414\n",
       "dtype: float64"
      ]
     },
     "execution_count": 11,
     "metadata": {},
     "output_type": "execute_result"
    }
   ],
   "source": [
    "mu_vec = compute_expected_returns(prices_m)\n",
    "mu_vec"
   ]
  },
  {
   "cell_type": "code",
   "execution_count": 13,
   "metadata": {
    "collapsed": false
   },
   "outputs": [
    {
     "data": {
      "text/html": [
       "<div>\n",
       "<table border=\"1\" class=\"dataframe\">\n",
       "  <thead>\n",
       "    <tr style=\"text-align: right;\">\n",
       "      <th></th>\n",
       "      <th>VGHCX</th>\n",
       "      <th>fdfax</th>\n",
       "      <th>VFIIX</th>\n",
       "    </tr>\n",
       "  </thead>\n",
       "  <tbody>\n",
       "    <tr>\n",
       "      <th>VGHCX</th>\n",
       "      <td>0.001746</td>\n",
       "      <td>0.001230</td>\n",
       "      <td>0.000053</td>\n",
       "    </tr>\n",
       "    <tr>\n",
       "      <th>fdfax</th>\n",
       "      <td>0.001230</td>\n",
       "      <td>0.001504</td>\n",
       "      <td>0.000071</td>\n",
       "    </tr>\n",
       "    <tr>\n",
       "      <th>VFIIX</th>\n",
       "      <td>0.000053</td>\n",
       "      <td>0.000071</td>\n",
       "      <td>0.000105</td>\n",
       "    </tr>\n",
       "  </tbody>\n",
       "</table>\n",
       "</div>"
      ],
      "text/plain": [
       "          VGHCX     fdfax     VFIIX\n",
       "VGHCX  0.001746  0.001230  0.000053\n",
       "fdfax  0.001230  0.001504  0.000071\n",
       "VFIIX  0.000053  0.000071  0.000105"
      ]
     },
     "execution_count": 13,
     "metadata": {},
     "output_type": "execute_result"
    }
   ],
   "source": [
    "sigma_mat = compute_covariance_matrix(prices_m)\n",
    "sigma_mat"
   ]
  },
  {
   "cell_type": "code",
   "execution_count": 38,
   "metadata": {
    "collapsed": false
   },
   "outputs": [
    {
     "name": "stdout",
     "output_type": "stream",
     "text": [
      "WARNING : TARGET RISK 0.01 < GLOBAL MINIMUM 0.04178771250475574; SETTING IT TO GLOBAL MINIMUM\n"
     ]
    },
    {
     "data": {
      "text/plain": [
       "(VGHCX    0.037783\n",
       " fdfax    0.002524\n",
       " VFIIX    0.959693\n",
       " dtype: float64,\n",
       " 0.0056768884565819456,\n",
       " 0.010188616053955095,\n",
       " 0.55717954494695554)"
      ]
     },
     "execution_count": 38,
     "metadata": {},
     "output_type": "execute_result"
    }
   ],
   "source": [
    "compute_target_risk_portfolio(mu_vec, sigma_mat, target_risk=0.01, risk_free=0, shorts=False)"
   ]
  },
  {
   "cell_type": "code",
   "execution_count": null,
   "metadata": {
    "collapsed": true
   },
   "outputs": [],
   "source": [
    ""
   ]
  }
 ],
 "metadata": {
  "kernelspec": {
   "display_name": "Python 3",
   "language": "python",
   "name": "python3"
  },
  "language_info": {
   "codemirror_mode": {
    "name": "ipython",
    "version": 3.0
   },
   "file_extension": ".py",
   "mimetype": "text/x-python",
   "name": "python",
   "nbconvert_exporter": "python",
   "pygments_lexer": "ipython3",
   "version": "3.4.5"
  }
 },
 "nbformat": 4,
 "nbformat_minor": 0
}